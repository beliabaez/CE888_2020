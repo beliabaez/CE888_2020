{
  "nbformat": 4,
  "nbformat_minor": 0,
  "metadata": {
    "colab": {
      "name": "Assignment_2_Titanic.ipynb",
      "provenance": [],
      "collapsed_sections": [],
      "toc_visible": true,
      "include_colab_link": true
    },
    "kernelspec": {
      "name": "python3",
      "display_name": "Python 3"
    }
  },
  "cells": [
    {
      "cell_type": "markdown",
      "metadata": {
        "id": "view-in-github",
        "colab_type": "text"
      },
      "source": [
        "<a href=\"https://colab.research.google.com/github/beliabaez/CE888_2020/blob/master/Assignment2/Assignment_2_Titanic.ipynb\" target=\"_parent\"><img src=\"https://colab.research.google.com/assets/colab-badge.svg\" alt=\"Open In Colab\"/></a>"
      ]
    },
    {
      "cell_type": "markdown",
      "metadata": {
        "id": "BbbeSXj7wLkP",
        "colab_type": "text"
      },
      "source": [
        "Titanic: Machine Learning from Disaster\n",
        "\n",
        "Upload of **Titanic** dataset from kaggle"
      ]
    },
    {
      "cell_type": "code",
      "metadata": {
        "id": "cXtrjTfTyBBu",
        "colab_type": "code",
        "colab": {}
      },
      "source": [
        "import numpy as np # linear algebra\n",
        "import pandas as pd # data processing, CSV file I/O (e.g. pd.read_csv)\n",
        "\n",
        "import seaborn as sns\n",
        "import matplotlib.pyplot as plt\n",
        "%matplotlib inline\n",
        "from sklearn import svm\n",
        "from sklearn.svm import SVC\n",
        "from sklearn import metrics\n",
        "\n",
        "from sklearn.model_selection import train_test_split\n",
        "from sklearn.metrics import roc_auc_score as AUC\n",
        "from sklearn.ensemble import RandomForestClassifier as RFC\n",
        "from sklearn.model_selection import StratifiedKFold as SKF\n",
        "from sklearn.preprocessing import LabelEncoder\n",
        "from sklearn.metrics import matthews_corrcoef\n",
        "from sklearn.metrics import accuracy_score\n",
        "from sklearn.metrics import roc_curve\n",
        "from sklearn import datasets, linear_model\n",
        "from sklearn.model_selection import cross_val_score\n",
        "from sklearn.ensemble import RandomForestRegressor\n",
        "\n",
        "\n",
        "from zipfile import ZipFile\n",
        "import json\n",
        "import os\n",
        "from pandas.io.json import json_normalize\n",
        "from sklearn.dummy import DummyRegressor, DummyClassifier"
      ],
      "execution_count": 0,
      "outputs": []
    },
    {
      "cell_type": "code",
      "metadata": {
        "id": "1Qhi13-Ny2_f",
        "colab_type": "code",
        "colab": {}
      },
      "source": [
        "api_token = {\"username\":\"beliabaez\",\"key\":\"d4473f0ec98ad5610b99d9c67e64ecb7\"}\n",
        "from google.colab import files\n",
        "os.environ['KAGGLE_USERNAME'] = \"beliabaez\" # username from the json file\n",
        "os.environ['KAGGLE_KEY'] = \"d4473f0ec98ad5610b99d9c67e64ecb7\" # key from the json file"
      ],
      "execution_count": 0,
      "outputs": []
    },
    {
      "cell_type": "code",
      "metadata": {
        "id": "9NvmTZ6zwDHQ",
        "colab_type": "code",
        "outputId": "7da71be5-5674-4442-d046-9b9bddffb48f",
        "colab": {
          "base_uri": "https://localhost:8080/",
          "height": 255
        }
      },
      "source": [
        "#Titanic Customer Transaction Prediction\n",
        "\n",
        "!kaggle competitions download -c titanic\n",
        "!mkdir titanicData/\n",
        "!mv train.csv.zip titanicData/\n",
        "!mv test.csv.zip titanicData/\n",
        "!unzip titanicData/train.csv.zip -d titanicData\n",
        "!unzip titanicData/test.csv.zip -d titanicData"
      ],
      "execution_count": 0,
      "outputs": [
        {
          "output_type": "stream",
          "text": [
            "Warning: Looks like you're using an outdated API Version, please consider updating (server 1.5.6 / client 1.5.4)\n",
            "Downloading train.csv to /content\n",
            "  0% 0.00/59.8k [00:00<?, ?B/s]\n",
            "100% 59.8k/59.8k [00:00<00:00, 22.8MB/s]\n",
            "Downloading gender_submission.csv to /content\n",
            "  0% 0.00/3.18k [00:00<?, ?B/s]\n",
            "100% 3.18k/3.18k [00:00<00:00, 3.33MB/s]\n",
            "Downloading test.csv to /content\n",
            "  0% 0.00/28.0k [00:00<?, ?B/s]\n",
            "100% 28.0k/28.0k [00:00<00:00, 27.3MB/s]\n",
            "mv: cannot stat 'train.csv.zip': No such file or directory\n",
            "mv: cannot stat 'test.csv.zip': No such file or directory\n",
            "unzip:  cannot find or open titanicData/train.csv.zip, titanicData/train.csv.zip.zip or titanicData/train.csv.zip.ZIP.\n",
            "unzip:  cannot find or open titanicData/test.csv.zip, titanicData/test.csv.zip.zip or titanicData/test.csv.zip.ZIP.\n"
          ],
          "name": "stdout"
        }
      ]
    },
    {
      "cell_type": "markdown",
      "metadata": {
        "id": "CClgAeK3Y6Ah",
        "colab_type": "text"
      },
      "source": [
        "# **Uploading and Filtering**"
      ]
    },
    {
      "cell_type": "markdown",
      "metadata": {
        "id": "mMUxc3ZZwSeq",
        "colab_type": "text"
      },
      "source": [
        "**Train of Titanic Data**"
      ]
    },
    {
      "cell_type": "code",
      "metadata": {
        "id": "hbnHaOojwQI9",
        "colab_type": "code",
        "outputId": "b373dc81-bae6-4c6e-88eb-498e7df4af56",
        "colab": {
          "base_uri": "https://localhost:8080/",
          "height": 504
        }
      },
      "source": [
        "#train of titanic data\n",
        "train_titanicData = pd.read_csv('/content/titanicData/train.csv')\n",
        "#train_titanicData = train_titanicData.dropna() #Remove missing values.\n",
        "train_titanicData\n",
        "\n",
        "#print(len(list(train_fraudDetection)))"
      ],
      "execution_count": 0,
      "outputs": [
        {
          "output_type": "execute_result",
          "data": {
            "text/html": [
              "<div>\n",
              "<style scoped>\n",
              "    .dataframe tbody tr th:only-of-type {\n",
              "        vertical-align: middle;\n",
              "    }\n",
              "\n",
              "    .dataframe tbody tr th {\n",
              "        vertical-align: top;\n",
              "    }\n",
              "\n",
              "    .dataframe thead th {\n",
              "        text-align: right;\n",
              "    }\n",
              "</style>\n",
              "<table border=\"1\" class=\"dataframe\">\n",
              "  <thead>\n",
              "    <tr style=\"text-align: right;\">\n",
              "      <th></th>\n",
              "      <th>PassengerId</th>\n",
              "      <th>Survived</th>\n",
              "      <th>Pclass</th>\n",
              "      <th>Name</th>\n",
              "      <th>Sex</th>\n",
              "      <th>Age</th>\n",
              "      <th>SibSp</th>\n",
              "      <th>Parch</th>\n",
              "      <th>Ticket</th>\n",
              "      <th>Fare</th>\n",
              "      <th>Cabin</th>\n",
              "      <th>Embarked</th>\n",
              "    </tr>\n",
              "  </thead>\n",
              "  <tbody>\n",
              "    <tr>\n",
              "      <th>0</th>\n",
              "      <td>1</td>\n",
              "      <td>0</td>\n",
              "      <td>3</td>\n",
              "      <td>Braund, Mr. Owen Harris</td>\n",
              "      <td>male</td>\n",
              "      <td>22.0</td>\n",
              "      <td>1</td>\n",
              "      <td>0</td>\n",
              "      <td>A/5 21171</td>\n",
              "      <td>7.2500</td>\n",
              "      <td>NaN</td>\n",
              "      <td>S</td>\n",
              "    </tr>\n",
              "    <tr>\n",
              "      <th>1</th>\n",
              "      <td>2</td>\n",
              "      <td>1</td>\n",
              "      <td>1</td>\n",
              "      <td>Cumings, Mrs. John Bradley (Florence Briggs Th...</td>\n",
              "      <td>female</td>\n",
              "      <td>38.0</td>\n",
              "      <td>1</td>\n",
              "      <td>0</td>\n",
              "      <td>PC 17599</td>\n",
              "      <td>71.2833</td>\n",
              "      <td>C85</td>\n",
              "      <td>C</td>\n",
              "    </tr>\n",
              "    <tr>\n",
              "      <th>2</th>\n",
              "      <td>3</td>\n",
              "      <td>1</td>\n",
              "      <td>3</td>\n",
              "      <td>Heikkinen, Miss. Laina</td>\n",
              "      <td>female</td>\n",
              "      <td>26.0</td>\n",
              "      <td>0</td>\n",
              "      <td>0</td>\n",
              "      <td>STON/O2. 3101282</td>\n",
              "      <td>7.9250</td>\n",
              "      <td>NaN</td>\n",
              "      <td>S</td>\n",
              "    </tr>\n",
              "    <tr>\n",
              "      <th>3</th>\n",
              "      <td>4</td>\n",
              "      <td>1</td>\n",
              "      <td>1</td>\n",
              "      <td>Futrelle, Mrs. Jacques Heath (Lily May Peel)</td>\n",
              "      <td>female</td>\n",
              "      <td>35.0</td>\n",
              "      <td>1</td>\n",
              "      <td>0</td>\n",
              "      <td>113803</td>\n",
              "      <td>53.1000</td>\n",
              "      <td>C123</td>\n",
              "      <td>S</td>\n",
              "    </tr>\n",
              "    <tr>\n",
              "      <th>4</th>\n",
              "      <td>5</td>\n",
              "      <td>0</td>\n",
              "      <td>3</td>\n",
              "      <td>Allen, Mr. William Henry</td>\n",
              "      <td>male</td>\n",
              "      <td>35.0</td>\n",
              "      <td>0</td>\n",
              "      <td>0</td>\n",
              "      <td>373450</td>\n",
              "      <td>8.0500</td>\n",
              "      <td>NaN</td>\n",
              "      <td>S</td>\n",
              "    </tr>\n",
              "    <tr>\n",
              "      <th>...</th>\n",
              "      <td>...</td>\n",
              "      <td>...</td>\n",
              "      <td>...</td>\n",
              "      <td>...</td>\n",
              "      <td>...</td>\n",
              "      <td>...</td>\n",
              "      <td>...</td>\n",
              "      <td>...</td>\n",
              "      <td>...</td>\n",
              "      <td>...</td>\n",
              "      <td>...</td>\n",
              "      <td>...</td>\n",
              "    </tr>\n",
              "    <tr>\n",
              "      <th>886</th>\n",
              "      <td>887</td>\n",
              "      <td>0</td>\n",
              "      <td>2</td>\n",
              "      <td>Montvila, Rev. Juozas</td>\n",
              "      <td>male</td>\n",
              "      <td>27.0</td>\n",
              "      <td>0</td>\n",
              "      <td>0</td>\n",
              "      <td>211536</td>\n",
              "      <td>13.0000</td>\n",
              "      <td>NaN</td>\n",
              "      <td>S</td>\n",
              "    </tr>\n",
              "    <tr>\n",
              "      <th>887</th>\n",
              "      <td>888</td>\n",
              "      <td>1</td>\n",
              "      <td>1</td>\n",
              "      <td>Graham, Miss. Margaret Edith</td>\n",
              "      <td>female</td>\n",
              "      <td>19.0</td>\n",
              "      <td>0</td>\n",
              "      <td>0</td>\n",
              "      <td>112053</td>\n",
              "      <td>30.0000</td>\n",
              "      <td>B42</td>\n",
              "      <td>S</td>\n",
              "    </tr>\n",
              "    <tr>\n",
              "      <th>888</th>\n",
              "      <td>889</td>\n",
              "      <td>0</td>\n",
              "      <td>3</td>\n",
              "      <td>Johnston, Miss. Catherine Helen \"Carrie\"</td>\n",
              "      <td>female</td>\n",
              "      <td>NaN</td>\n",
              "      <td>1</td>\n",
              "      <td>2</td>\n",
              "      <td>W./C. 6607</td>\n",
              "      <td>23.4500</td>\n",
              "      <td>NaN</td>\n",
              "      <td>S</td>\n",
              "    </tr>\n",
              "    <tr>\n",
              "      <th>889</th>\n",
              "      <td>890</td>\n",
              "      <td>1</td>\n",
              "      <td>1</td>\n",
              "      <td>Behr, Mr. Karl Howell</td>\n",
              "      <td>male</td>\n",
              "      <td>26.0</td>\n",
              "      <td>0</td>\n",
              "      <td>0</td>\n",
              "      <td>111369</td>\n",
              "      <td>30.0000</td>\n",
              "      <td>C148</td>\n",
              "      <td>C</td>\n",
              "    </tr>\n",
              "    <tr>\n",
              "      <th>890</th>\n",
              "      <td>891</td>\n",
              "      <td>0</td>\n",
              "      <td>3</td>\n",
              "      <td>Dooley, Mr. Patrick</td>\n",
              "      <td>male</td>\n",
              "      <td>32.0</td>\n",
              "      <td>0</td>\n",
              "      <td>0</td>\n",
              "      <td>370376</td>\n",
              "      <td>7.7500</td>\n",
              "      <td>NaN</td>\n",
              "      <td>Q</td>\n",
              "    </tr>\n",
              "  </tbody>\n",
              "</table>\n",
              "<p>891 rows × 12 columns</p>\n",
              "</div>"
            ],
            "text/plain": [
              "     PassengerId  Survived  Pclass  ...     Fare Cabin  Embarked\n",
              "0              1         0       3  ...   7.2500   NaN         S\n",
              "1              2         1       1  ...  71.2833   C85         C\n",
              "2              3         1       3  ...   7.9250   NaN         S\n",
              "3              4         1       1  ...  53.1000  C123         S\n",
              "4              5         0       3  ...   8.0500   NaN         S\n",
              "..           ...       ...     ...  ...      ...   ...       ...\n",
              "886          887         0       2  ...  13.0000   NaN         S\n",
              "887          888         1       1  ...  30.0000   B42         S\n",
              "888          889         0       3  ...  23.4500   NaN         S\n",
              "889          890         1       1  ...  30.0000  C148         C\n",
              "890          891         0       3  ...   7.7500   NaN         Q\n",
              "\n",
              "[891 rows x 12 columns]"
            ]
          },
          "metadata": {
            "tags": []
          },
          "execution_count": 7
        }
      ]
    },
    {
      "cell_type": "code",
      "metadata": {
        "id": "8uo4e9daqs-I",
        "colab_type": "code",
        "outputId": "beb1c6af-5b8b-47f1-dfdd-f548ed59c84f",
        "colab": {
          "base_uri": "https://localhost:8080/",
          "height": 85
        }
      },
      "source": [
        "train_titanicData.dtypes.value_counts()\n"
      ],
      "execution_count": 0,
      "outputs": [
        {
          "output_type": "execute_result",
          "data": {
            "text/plain": [
              "int64      5\n",
              "object     5\n",
              "float64    2\n",
              "dtype: int64"
            ]
          },
          "metadata": {
            "tags": []
          },
          "execution_count": 8
        }
      ]
    },
    {
      "cell_type": "code",
      "metadata": {
        "id": "PkkaQezfrFrf",
        "colab_type": "code",
        "colab": {}
      },
      "source": [
        "\n",
        "def fillNansAndEncodeLabels(df):\n",
        "    for feature in df.columns:\n",
        "        if (df[feature].dtype == 'object'):\n",
        "            mode = df[feature].mode()[0]\n",
        "            temp = df[feature].fillna(mode)\n",
        "            le = LabelEncoder()\n",
        "            df[feature] = le.fit_transform(temp)\n",
        "\n",
        "        else:\n",
        "            df[feature].fillna(np.mean(df[feature]), inplace=True)"
      ],
      "execution_count": 0,
      "outputs": []
    },
    {
      "cell_type": "code",
      "metadata": {
        "id": "dKTViH4OrIMo",
        "colab_type": "code",
        "outputId": "44e9ef6e-501e-4eab-849d-2ed894330344",
        "colab": {
          "base_uri": "https://localhost:8080/",
          "height": 419
        }
      },
      "source": [
        "fillNansAndEncodeLabels(train_titanicData)\n",
        "\n",
        "train_titanicData"
      ],
      "execution_count": 0,
      "outputs": [
        {
          "output_type": "execute_result",
          "data": {
            "text/html": [
              "<div>\n",
              "<style scoped>\n",
              "    .dataframe tbody tr th:only-of-type {\n",
              "        vertical-align: middle;\n",
              "    }\n",
              "\n",
              "    .dataframe tbody tr th {\n",
              "        vertical-align: top;\n",
              "    }\n",
              "\n",
              "    .dataframe thead th {\n",
              "        text-align: right;\n",
              "    }\n",
              "</style>\n",
              "<table border=\"1\" class=\"dataframe\">\n",
              "  <thead>\n",
              "    <tr style=\"text-align: right;\">\n",
              "      <th></th>\n",
              "      <th>PassengerId</th>\n",
              "      <th>Survived</th>\n",
              "      <th>Pclass</th>\n",
              "      <th>Name</th>\n",
              "      <th>Sex</th>\n",
              "      <th>Age</th>\n",
              "      <th>SibSp</th>\n",
              "      <th>Parch</th>\n",
              "      <th>Ticket</th>\n",
              "      <th>Fare</th>\n",
              "      <th>Cabin</th>\n",
              "      <th>Embarked</th>\n",
              "    </tr>\n",
              "  </thead>\n",
              "  <tbody>\n",
              "    <tr>\n",
              "      <th>0</th>\n",
              "      <td>1</td>\n",
              "      <td>0</td>\n",
              "      <td>3</td>\n",
              "      <td>108</td>\n",
              "      <td>1</td>\n",
              "      <td>22.000000</td>\n",
              "      <td>1</td>\n",
              "      <td>0</td>\n",
              "      <td>523</td>\n",
              "      <td>7.2500</td>\n",
              "      <td>47</td>\n",
              "      <td>2</td>\n",
              "    </tr>\n",
              "    <tr>\n",
              "      <th>1</th>\n",
              "      <td>2</td>\n",
              "      <td>1</td>\n",
              "      <td>1</td>\n",
              "      <td>190</td>\n",
              "      <td>0</td>\n",
              "      <td>38.000000</td>\n",
              "      <td>1</td>\n",
              "      <td>0</td>\n",
              "      <td>596</td>\n",
              "      <td>71.2833</td>\n",
              "      <td>81</td>\n",
              "      <td>0</td>\n",
              "    </tr>\n",
              "    <tr>\n",
              "      <th>2</th>\n",
              "      <td>3</td>\n",
              "      <td>1</td>\n",
              "      <td>3</td>\n",
              "      <td>353</td>\n",
              "      <td>0</td>\n",
              "      <td>26.000000</td>\n",
              "      <td>0</td>\n",
              "      <td>0</td>\n",
              "      <td>669</td>\n",
              "      <td>7.9250</td>\n",
              "      <td>47</td>\n",
              "      <td>2</td>\n",
              "    </tr>\n",
              "    <tr>\n",
              "      <th>3</th>\n",
              "      <td>4</td>\n",
              "      <td>1</td>\n",
              "      <td>1</td>\n",
              "      <td>272</td>\n",
              "      <td>0</td>\n",
              "      <td>35.000000</td>\n",
              "      <td>1</td>\n",
              "      <td>0</td>\n",
              "      <td>49</td>\n",
              "      <td>53.1000</td>\n",
              "      <td>55</td>\n",
              "      <td>2</td>\n",
              "    </tr>\n",
              "    <tr>\n",
              "      <th>4</th>\n",
              "      <td>5</td>\n",
              "      <td>0</td>\n",
              "      <td>3</td>\n",
              "      <td>15</td>\n",
              "      <td>1</td>\n",
              "      <td>35.000000</td>\n",
              "      <td>0</td>\n",
              "      <td>0</td>\n",
              "      <td>472</td>\n",
              "      <td>8.0500</td>\n",
              "      <td>47</td>\n",
              "      <td>2</td>\n",
              "    </tr>\n",
              "    <tr>\n",
              "      <th>...</th>\n",
              "      <td>...</td>\n",
              "      <td>...</td>\n",
              "      <td>...</td>\n",
              "      <td>...</td>\n",
              "      <td>...</td>\n",
              "      <td>...</td>\n",
              "      <td>...</td>\n",
              "      <td>...</td>\n",
              "      <td>...</td>\n",
              "      <td>...</td>\n",
              "      <td>...</td>\n",
              "      <td>...</td>\n",
              "    </tr>\n",
              "    <tr>\n",
              "      <th>886</th>\n",
              "      <td>887</td>\n",
              "      <td>0</td>\n",
              "      <td>2</td>\n",
              "      <td>548</td>\n",
              "      <td>1</td>\n",
              "      <td>27.000000</td>\n",
              "      <td>0</td>\n",
              "      <td>0</td>\n",
              "      <td>101</td>\n",
              "      <td>13.0000</td>\n",
              "      <td>47</td>\n",
              "      <td>2</td>\n",
              "    </tr>\n",
              "    <tr>\n",
              "      <th>887</th>\n",
              "      <td>888</td>\n",
              "      <td>1</td>\n",
              "      <td>1</td>\n",
              "      <td>303</td>\n",
              "      <td>0</td>\n",
              "      <td>19.000000</td>\n",
              "      <td>0</td>\n",
              "      <td>0</td>\n",
              "      <td>14</td>\n",
              "      <td>30.0000</td>\n",
              "      <td>30</td>\n",
              "      <td>2</td>\n",
              "    </tr>\n",
              "    <tr>\n",
              "      <th>888</th>\n",
              "      <td>889</td>\n",
              "      <td>0</td>\n",
              "      <td>3</td>\n",
              "      <td>413</td>\n",
              "      <td>0</td>\n",
              "      <td>29.699118</td>\n",
              "      <td>1</td>\n",
              "      <td>2</td>\n",
              "      <td>675</td>\n",
              "      <td>23.4500</td>\n",
              "      <td>47</td>\n",
              "      <td>2</td>\n",
              "    </tr>\n",
              "    <tr>\n",
              "      <th>889</th>\n",
              "      <td>890</td>\n",
              "      <td>1</td>\n",
              "      <td>1</td>\n",
              "      <td>81</td>\n",
              "      <td>1</td>\n",
              "      <td>26.000000</td>\n",
              "      <td>0</td>\n",
              "      <td>0</td>\n",
              "      <td>8</td>\n",
              "      <td>30.0000</td>\n",
              "      <td>60</td>\n",
              "      <td>0</td>\n",
              "    </tr>\n",
              "    <tr>\n",
              "      <th>890</th>\n",
              "      <td>891</td>\n",
              "      <td>0</td>\n",
              "      <td>3</td>\n",
              "      <td>220</td>\n",
              "      <td>1</td>\n",
              "      <td>32.000000</td>\n",
              "      <td>0</td>\n",
              "      <td>0</td>\n",
              "      <td>466</td>\n",
              "      <td>7.7500</td>\n",
              "      <td>47</td>\n",
              "      <td>1</td>\n",
              "    </tr>\n",
              "  </tbody>\n",
              "</table>\n",
              "<p>891 rows × 12 columns</p>\n",
              "</div>"
            ],
            "text/plain": [
              "     PassengerId  Survived  Pclass  Name  ...  Ticket     Fare  Cabin  Embarked\n",
              "0              1         0       3   108  ...     523   7.2500     47         2\n",
              "1              2         1       1   190  ...     596  71.2833     81         0\n",
              "2              3         1       3   353  ...     669   7.9250     47         2\n",
              "3              4         1       1   272  ...      49  53.1000     55         2\n",
              "4              5         0       3    15  ...     472   8.0500     47         2\n",
              "..           ...       ...     ...   ...  ...     ...      ...    ...       ...\n",
              "886          887         0       2   548  ...     101  13.0000     47         2\n",
              "887          888         1       1   303  ...      14  30.0000     30         2\n",
              "888          889         0       3   413  ...     675  23.4500     47         2\n",
              "889          890         1       1    81  ...       8  30.0000     60         0\n",
              "890          891         0       3   220  ...     466   7.7500     47         1\n",
              "\n",
              "[891 rows x 12 columns]"
            ]
          },
          "metadata": {
            "tags": []
          },
          "execution_count": 13
        }
      ]
    },
    {
      "cell_type": "markdown",
      "metadata": {
        "id": "bm29jqoqwb9X",
        "colab_type": "text"
      },
      "source": [
        "*Clean the columns of the files to make them alike and to be possible to work with them at the same time*"
      ]
    },
    {
      "cell_type": "markdown",
      "metadata": {
        "id": "Am-PeEw1wmJw",
        "colab_type": "text"
      },
      "source": [
        "**Test of Titanic Data**"
      ]
    },
    {
      "cell_type": "code",
      "metadata": {
        "id": "AOikkZdwzW0d",
        "colab_type": "code",
        "outputId": "c95f31c3-1e9e-4e06-b980-facaee9f6e66",
        "colab": {
          "base_uri": "https://localhost:8080/",
          "height": 453
        }
      },
      "source": [
        "#test of titanic data\n",
        "test_titanicData = pd.read_csv('/content/titanicData/test.csv')\n",
        "test_titanicData\n"
      ],
      "execution_count": 0,
      "outputs": [
        {
          "output_type": "execute_result",
          "data": {
            "text/html": [
              "<div>\n",
              "<style scoped>\n",
              "    .dataframe tbody tr th:only-of-type {\n",
              "        vertical-align: middle;\n",
              "    }\n",
              "\n",
              "    .dataframe tbody tr th {\n",
              "        vertical-align: top;\n",
              "    }\n",
              "\n",
              "    .dataframe thead th {\n",
              "        text-align: right;\n",
              "    }\n",
              "</style>\n",
              "<table border=\"1\" class=\"dataframe\">\n",
              "  <thead>\n",
              "    <tr style=\"text-align: right;\">\n",
              "      <th></th>\n",
              "      <th>PassengerId</th>\n",
              "      <th>Pclass</th>\n",
              "      <th>Name</th>\n",
              "      <th>Sex</th>\n",
              "      <th>Age</th>\n",
              "      <th>SibSp</th>\n",
              "      <th>Parch</th>\n",
              "      <th>Ticket</th>\n",
              "      <th>Fare</th>\n",
              "      <th>Cabin</th>\n",
              "      <th>Embarked</th>\n",
              "    </tr>\n",
              "  </thead>\n",
              "  <tbody>\n",
              "    <tr>\n",
              "      <th>0</th>\n",
              "      <td>892</td>\n",
              "      <td>3</td>\n",
              "      <td>Kelly, Mr. James</td>\n",
              "      <td>male</td>\n",
              "      <td>34.5</td>\n",
              "      <td>0</td>\n",
              "      <td>0</td>\n",
              "      <td>330911</td>\n",
              "      <td>7.8292</td>\n",
              "      <td>NaN</td>\n",
              "      <td>Q</td>\n",
              "    </tr>\n",
              "    <tr>\n",
              "      <th>1</th>\n",
              "      <td>893</td>\n",
              "      <td>3</td>\n",
              "      <td>Wilkes, Mrs. James (Ellen Needs)</td>\n",
              "      <td>female</td>\n",
              "      <td>47.0</td>\n",
              "      <td>1</td>\n",
              "      <td>0</td>\n",
              "      <td>363272</td>\n",
              "      <td>7.0000</td>\n",
              "      <td>NaN</td>\n",
              "      <td>S</td>\n",
              "    </tr>\n",
              "    <tr>\n",
              "      <th>2</th>\n",
              "      <td>894</td>\n",
              "      <td>2</td>\n",
              "      <td>Myles, Mr. Thomas Francis</td>\n",
              "      <td>male</td>\n",
              "      <td>62.0</td>\n",
              "      <td>0</td>\n",
              "      <td>0</td>\n",
              "      <td>240276</td>\n",
              "      <td>9.6875</td>\n",
              "      <td>NaN</td>\n",
              "      <td>Q</td>\n",
              "    </tr>\n",
              "    <tr>\n",
              "      <th>3</th>\n",
              "      <td>895</td>\n",
              "      <td>3</td>\n",
              "      <td>Wirz, Mr. Albert</td>\n",
              "      <td>male</td>\n",
              "      <td>27.0</td>\n",
              "      <td>0</td>\n",
              "      <td>0</td>\n",
              "      <td>315154</td>\n",
              "      <td>8.6625</td>\n",
              "      <td>NaN</td>\n",
              "      <td>S</td>\n",
              "    </tr>\n",
              "    <tr>\n",
              "      <th>4</th>\n",
              "      <td>896</td>\n",
              "      <td>3</td>\n",
              "      <td>Hirvonen, Mrs. Alexander (Helga E Lindqvist)</td>\n",
              "      <td>female</td>\n",
              "      <td>22.0</td>\n",
              "      <td>1</td>\n",
              "      <td>1</td>\n",
              "      <td>3101298</td>\n",
              "      <td>12.2875</td>\n",
              "      <td>NaN</td>\n",
              "      <td>S</td>\n",
              "    </tr>\n",
              "    <tr>\n",
              "      <th>...</th>\n",
              "      <td>...</td>\n",
              "      <td>...</td>\n",
              "      <td>...</td>\n",
              "      <td>...</td>\n",
              "      <td>...</td>\n",
              "      <td>...</td>\n",
              "      <td>...</td>\n",
              "      <td>...</td>\n",
              "      <td>...</td>\n",
              "      <td>...</td>\n",
              "      <td>...</td>\n",
              "    </tr>\n",
              "    <tr>\n",
              "      <th>413</th>\n",
              "      <td>1305</td>\n",
              "      <td>3</td>\n",
              "      <td>Spector, Mr. Woolf</td>\n",
              "      <td>male</td>\n",
              "      <td>NaN</td>\n",
              "      <td>0</td>\n",
              "      <td>0</td>\n",
              "      <td>A.5. 3236</td>\n",
              "      <td>8.0500</td>\n",
              "      <td>NaN</td>\n",
              "      <td>S</td>\n",
              "    </tr>\n",
              "    <tr>\n",
              "      <th>414</th>\n",
              "      <td>1306</td>\n",
              "      <td>1</td>\n",
              "      <td>Oliva y Ocana, Dona. Fermina</td>\n",
              "      <td>female</td>\n",
              "      <td>39.0</td>\n",
              "      <td>0</td>\n",
              "      <td>0</td>\n",
              "      <td>PC 17758</td>\n",
              "      <td>108.9000</td>\n",
              "      <td>C105</td>\n",
              "      <td>C</td>\n",
              "    </tr>\n",
              "    <tr>\n",
              "      <th>415</th>\n",
              "      <td>1307</td>\n",
              "      <td>3</td>\n",
              "      <td>Saether, Mr. Simon Sivertsen</td>\n",
              "      <td>male</td>\n",
              "      <td>38.5</td>\n",
              "      <td>0</td>\n",
              "      <td>0</td>\n",
              "      <td>SOTON/O.Q. 3101262</td>\n",
              "      <td>7.2500</td>\n",
              "      <td>NaN</td>\n",
              "      <td>S</td>\n",
              "    </tr>\n",
              "    <tr>\n",
              "      <th>416</th>\n",
              "      <td>1308</td>\n",
              "      <td>3</td>\n",
              "      <td>Ware, Mr. Frederick</td>\n",
              "      <td>male</td>\n",
              "      <td>NaN</td>\n",
              "      <td>0</td>\n",
              "      <td>0</td>\n",
              "      <td>359309</td>\n",
              "      <td>8.0500</td>\n",
              "      <td>NaN</td>\n",
              "      <td>S</td>\n",
              "    </tr>\n",
              "    <tr>\n",
              "      <th>417</th>\n",
              "      <td>1309</td>\n",
              "      <td>3</td>\n",
              "      <td>Peter, Master. Michael J</td>\n",
              "      <td>male</td>\n",
              "      <td>NaN</td>\n",
              "      <td>1</td>\n",
              "      <td>1</td>\n",
              "      <td>2668</td>\n",
              "      <td>22.3583</td>\n",
              "      <td>NaN</td>\n",
              "      <td>C</td>\n",
              "    </tr>\n",
              "  </tbody>\n",
              "</table>\n",
              "<p>418 rows × 11 columns</p>\n",
              "</div>"
            ],
            "text/plain": [
              "     PassengerId  Pclass  ... Cabin Embarked\n",
              "0            892       3  ...   NaN        Q\n",
              "1            893       3  ...   NaN        S\n",
              "2            894       2  ...   NaN        Q\n",
              "3            895       3  ...   NaN        S\n",
              "4            896       3  ...   NaN        S\n",
              "..           ...     ...  ...   ...      ...\n",
              "413         1305       3  ...   NaN        S\n",
              "414         1306       1  ...  C105        C\n",
              "415         1307       3  ...   NaN        S\n",
              "416         1308       3  ...   NaN        S\n",
              "417         1309       3  ...   NaN        C\n",
              "\n",
              "[418 rows x 11 columns]"
            ]
          },
          "metadata": {
            "tags": []
          },
          "execution_count": 15
        }
      ]
    },
    {
      "cell_type": "markdown",
      "metadata": {
        "id": "Q4dPsorFwxRY",
        "colab_type": "text"
      },
      "source": [
        "*Clean the columns of the files to make them alike and to be possible to work with them at the same time*"
      ]
    },
    {
      "cell_type": "code",
      "metadata": {
        "id": "ShkmTakUsbJZ",
        "colab_type": "code",
        "outputId": "c16f355b-6d79-4b47-d4a3-ae9484505a64",
        "colab": {
          "base_uri": "https://localhost:8080/",
          "height": 85
        }
      },
      "source": [
        "test_titanicData.dtypes.value_counts()"
      ],
      "execution_count": 0,
      "outputs": [
        {
          "output_type": "execute_result",
          "data": {
            "text/plain": [
              "object     5\n",
              "int64      4\n",
              "float64    2\n",
              "dtype: int64"
            ]
          },
          "metadata": {
            "tags": []
          },
          "execution_count": 374
        }
      ]
    },
    {
      "cell_type": "code",
      "metadata": {
        "id": "uPxIZafnsnSy",
        "colab_type": "code",
        "outputId": "0dc791ba-4e4c-425a-8aea-7dfdb977c3ca",
        "colab": {
          "base_uri": "https://localhost:8080/",
          "height": 419
        }
      },
      "source": [
        "fillNansAndEncodeLabels(test_titanicData)\n",
        "\n",
        "test_titanicData"
      ],
      "execution_count": 0,
      "outputs": [
        {
          "output_type": "execute_result",
          "data": {
            "text/html": [
              "<div>\n",
              "<style scoped>\n",
              "    .dataframe tbody tr th:only-of-type {\n",
              "        vertical-align: middle;\n",
              "    }\n",
              "\n",
              "    .dataframe tbody tr th {\n",
              "        vertical-align: top;\n",
              "    }\n",
              "\n",
              "    .dataframe thead th {\n",
              "        text-align: right;\n",
              "    }\n",
              "</style>\n",
              "<table border=\"1\" class=\"dataframe\">\n",
              "  <thead>\n",
              "    <tr style=\"text-align: right;\">\n",
              "      <th></th>\n",
              "      <th>PassengerId</th>\n",
              "      <th>Pclass</th>\n",
              "      <th>Name</th>\n",
              "      <th>Sex</th>\n",
              "      <th>Age</th>\n",
              "      <th>SibSp</th>\n",
              "      <th>Parch</th>\n",
              "      <th>Ticket</th>\n",
              "      <th>Fare</th>\n",
              "      <th>Cabin</th>\n",
              "      <th>Embarked</th>\n",
              "    </tr>\n",
              "  </thead>\n",
              "  <tbody>\n",
              "    <tr>\n",
              "      <th>0</th>\n",
              "      <td>892</td>\n",
              "      <td>3</td>\n",
              "      <td>206</td>\n",
              "      <td>1</td>\n",
              "      <td>34.50000</td>\n",
              "      <td>0</td>\n",
              "      <td>0</td>\n",
              "      <td>152</td>\n",
              "      <td>7.8292</td>\n",
              "      <td>15</td>\n",
              "      <td>1</td>\n",
              "    </tr>\n",
              "    <tr>\n",
              "      <th>1</th>\n",
              "      <td>893</td>\n",
              "      <td>3</td>\n",
              "      <td>403</td>\n",
              "      <td>0</td>\n",
              "      <td>47.00000</td>\n",
              "      <td>1</td>\n",
              "      <td>0</td>\n",
              "      <td>221</td>\n",
              "      <td>7.0000</td>\n",
              "      <td>15</td>\n",
              "      <td>2</td>\n",
              "    </tr>\n",
              "    <tr>\n",
              "      <th>2</th>\n",
              "      <td>894</td>\n",
              "      <td>2</td>\n",
              "      <td>269</td>\n",
              "      <td>1</td>\n",
              "      <td>62.00000</td>\n",
              "      <td>0</td>\n",
              "      <td>0</td>\n",
              "      <td>73</td>\n",
              "      <td>9.6875</td>\n",
              "      <td>15</td>\n",
              "      <td>1</td>\n",
              "    </tr>\n",
              "    <tr>\n",
              "      <th>3</th>\n",
              "      <td>895</td>\n",
              "      <td>3</td>\n",
              "      <td>408</td>\n",
              "      <td>1</td>\n",
              "      <td>27.00000</td>\n",
              "      <td>0</td>\n",
              "      <td>0</td>\n",
              "      <td>147</td>\n",
              "      <td>8.6625</td>\n",
              "      <td>15</td>\n",
              "      <td>2</td>\n",
              "    </tr>\n",
              "    <tr>\n",
              "      <th>4</th>\n",
              "      <td>896</td>\n",
              "      <td>3</td>\n",
              "      <td>178</td>\n",
              "      <td>0</td>\n",
              "      <td>22.00000</td>\n",
              "      <td>1</td>\n",
              "      <td>1</td>\n",
              "      <td>138</td>\n",
              "      <td>12.2875</td>\n",
              "      <td>15</td>\n",
              "      <td>2</td>\n",
              "    </tr>\n",
              "    <tr>\n",
              "      <th>...</th>\n",
              "      <td>...</td>\n",
              "      <td>...</td>\n",
              "      <td>...</td>\n",
              "      <td>...</td>\n",
              "      <td>...</td>\n",
              "      <td>...</td>\n",
              "      <td>...</td>\n",
              "      <td>...</td>\n",
              "      <td>...</td>\n",
              "      <td>...</td>\n",
              "      <td>...</td>\n",
              "    </tr>\n",
              "    <tr>\n",
              "      <th>413</th>\n",
              "      <td>1305</td>\n",
              "      <td>3</td>\n",
              "      <td>353</td>\n",
              "      <td>1</td>\n",
              "      <td>30.27259</td>\n",
              "      <td>0</td>\n",
              "      <td>0</td>\n",
              "      <td>267</td>\n",
              "      <td>8.0500</td>\n",
              "      <td>15</td>\n",
              "      <td>2</td>\n",
              "    </tr>\n",
              "    <tr>\n",
              "      <th>414</th>\n",
              "      <td>1306</td>\n",
              "      <td>1</td>\n",
              "      <td>283</td>\n",
              "      <td>0</td>\n",
              "      <td>39.00000</td>\n",
              "      <td>0</td>\n",
              "      <td>0</td>\n",
              "      <td>324</td>\n",
              "      <td>108.9000</td>\n",
              "      <td>22</td>\n",
              "      <td>0</td>\n",
              "    </tr>\n",
              "    <tr>\n",
              "      <th>415</th>\n",
              "      <td>1307</td>\n",
              "      <td>3</td>\n",
              "      <td>332</td>\n",
              "      <td>1</td>\n",
              "      <td>38.50000</td>\n",
              "      <td>0</td>\n",
              "      <td>0</td>\n",
              "      <td>346</td>\n",
              "      <td>7.2500</td>\n",
              "      <td>15</td>\n",
              "      <td>2</td>\n",
              "    </tr>\n",
              "    <tr>\n",
              "      <th>416</th>\n",
              "      <td>1308</td>\n",
              "      <td>3</td>\n",
              "      <td>384</td>\n",
              "      <td>1</td>\n",
              "      <td>30.27259</td>\n",
              "      <td>0</td>\n",
              "      <td>0</td>\n",
              "      <td>220</td>\n",
              "      <td>8.0500</td>\n",
              "      <td>15</td>\n",
              "      <td>2</td>\n",
              "    </tr>\n",
              "    <tr>\n",
              "      <th>417</th>\n",
              "      <td>1309</td>\n",
              "      <td>3</td>\n",
              "      <td>302</td>\n",
              "      <td>1</td>\n",
              "      <td>30.27259</td>\n",
              "      <td>1</td>\n",
              "      <td>1</td>\n",
              "      <td>105</td>\n",
              "      <td>22.3583</td>\n",
              "      <td>15</td>\n",
              "      <td>0</td>\n",
              "    </tr>\n",
              "  </tbody>\n",
              "</table>\n",
              "<p>418 rows × 11 columns</p>\n",
              "</div>"
            ],
            "text/plain": [
              "     PassengerId  Pclass  Name  Sex  ...  Ticket      Fare  Cabin  Embarked\n",
              "0            892       3   206    1  ...     152    7.8292     15         1\n",
              "1            893       3   403    0  ...     221    7.0000     15         2\n",
              "2            894       2   269    1  ...      73    9.6875     15         1\n",
              "3            895       3   408    1  ...     147    8.6625     15         2\n",
              "4            896       3   178    0  ...     138   12.2875     15         2\n",
              "..           ...     ...   ...  ...  ...     ...       ...    ...       ...\n",
              "413         1305       3   353    1  ...     267    8.0500     15         2\n",
              "414         1306       1   283    0  ...     324  108.9000     22         0\n",
              "415         1307       3   332    1  ...     346    7.2500     15         2\n",
              "416         1308       3   384    1  ...     220    8.0500     15         2\n",
              "417         1309       3   302    1  ...     105   22.3583     15         0\n",
              "\n",
              "[418 rows x 11 columns]"
            ]
          },
          "metadata": {
            "tags": []
          },
          "execution_count": 16
        }
      ]
    },
    {
      "cell_type": "code",
      "metadata": {
        "id": "c9dzoQT8WM_u",
        "colab_type": "code",
        "colab": {}
      },
      "source": [
        "auxtest = test_titanicData"
      ],
      "execution_count": 0,
      "outputs": []
    },
    {
      "cell_type": "markdown",
      "metadata": {
        "id": "1f4_oDCVw7bh",
        "colab_type": "text"
      },
      "source": [
        "**Plot of statistical graphics**\n",
        "The data used for training is represented in blue and for the testing in orange."
      ]
    },
    {
      "cell_type": "code",
      "metadata": {
        "id": "-xGemg1bw-mw",
        "colab_type": "code",
        "outputId": "86a44746-ad25-40de-b310-f7cdfcc137e8",
        "colab": {
          "base_uri": "https://localhost:8080/",
          "height": 296
        }
      },
      "source": [
        "#plot of histogram for google dataset\n",
        "x = train_titanicData\n",
        "y = test_titanicData\n",
        "sns.distplot(train_titanicData,hist=False, label='Train', axlabel= 'Titanic Data Set')\n",
        "sns.distplot(test_titanicData, hist = False, label = 'Test')"
      ],
      "execution_count": 0,
      "outputs": [
        {
          "output_type": "execute_result",
          "data": {
            "text/plain": [
              "<matplotlib.axes._subplots.AxesSubplot at 0x7f30eceace80>"
            ]
          },
          "metadata": {
            "tags": []
          },
          "execution_count": 18
        },
        {
          "output_type": "display_data",
          "data": {
            "image/png": "[encoded data removed]",
            "text/plain": [
              "<Figure size 432x288 with 1 Axes>"
            ]
          },
          "metadata": {
            "tags": [],
            "needs_background": "light"
          }
        }
      ]
    },
    {
      "cell_type": "markdown",
      "metadata": {
        "id": "FeIGml3VTCuA",
        "colab_type": "text"
      },
      "source": [
        "# **SVM Classifier**\n",
        "\n",
        "Divide the trainset and testset into x and y and apply the SVM Classifier with linear kernel"
      ]
    },
    {
      "cell_type": "code",
      "metadata": {
        "id": "BB7IAVgfgYBu",
        "colab_type": "code",
        "colab": {}
      },
      "source": [
        "y1 = train_titanicData['Survived']\n",
        "x1 = train_titanicData.drop(['Survived'], axis =1)\n",
        "\n",
        "xtest = test_titanicData\n",
        "ytest = test_titanicData"
      ],
      "execution_count": 0,
      "outputs": []
    },
    {
      "cell_type": "code",
      "metadata": {
        "id": "T6Wgn4NphBzS",
        "colab_type": "code",
        "colab": {}
      },
      "source": [
        "\n",
        "#Create a svm Classifier\n",
        "clf = SVC(kernel='linear') # Linear Kernel\n",
        "#Train the model using the training sets\n",
        "\n",
        "clf.fit(x1.values, y1.values)\n",
        "\n",
        "y_prediction = clf.predict(xtest.values)"
      ],
      "execution_count": 0,
      "outputs": []
    },
    {
      "cell_type": "code",
      "metadata": {
        "id": "J5ZQBttZPG9j",
        "colab_type": "code",
        "outputId": "4518dfe0-cdad-4241-93cb-c6a0da38aab1",
        "colab": {
          "base_uri": "https://localhost:8080/",
          "height": 340
        }
      },
      "source": [
        "y_prediction"
      ],
      "execution_count": 0,
      "outputs": [
        {
          "output_type": "execute_result",
          "data": {
            "text/plain": [
              "array([0, 1, 0, 0, 1, 0, 1, 0, 1, 0, 0, 0, 1, 0, 1, 1, 0, 0, 1, 1, 0, 0,\n",
              "       1, 0, 1, 0, 1, 0, 0, 0, 0, 0, 0, 1, 0, 0, 1, 1, 0, 0, 0, 0, 0, 1,\n",
              "       1, 0, 0, 0, 1, 1, 0, 0, 1, 1, 0, 0, 0, 0, 0, 1, 0, 0, 0, 1, 0, 1,\n",
              "       1, 0, 0, 1, 1, 0, 1, 0, 1, 1, 0, 1, 0, 1, 0, 0, 0, 0, 0, 0, 1, 1,\n",
              "       1, 0, 1, 0, 1, 0, 0, 0, 1, 0, 1, 0, 1, 0, 0, 0, 1, 0, 0, 0, 0, 0,\n",
              "       0, 1, 1, 1, 1, 0, 0, 1, 0, 1, 1, 0, 1, 0, 0, 1, 0, 1, 0, 0, 0, 0,\n",
              "       0, 0, 0, 0, 0, 0, 1, 0, 0, 1, 0, 0, 0, 0, 0, 0, 0, 0, 1, 0, 0, 1,\n",
              "       0, 0, 1, 1, 0, 1, 1, 0, 1, 0, 0, 1, 0, 0, 1, 1, 0, 0, 0, 0, 0, 1,\n",
              "       1, 0, 1, 1, 0, 0, 1, 0, 1, 0, 1, 0, 0, 0, 0, 0, 0, 0, 0, 0, 1, 1,\n",
              "       0, 1, 1, 0, 0, 1, 0, 0, 1, 0, 1, 0, 0, 0, 0, 1, 0, 0, 1, 0, 1, 0,\n",
              "       1, 0, 1, 0, 1, 1, 0, 1, 0, 0, 0, 1, 0, 0, 0, 0, 0, 0, 1, 1, 1, 1,\n",
              "       0, 0, 0, 0, 1, 0, 1, 1, 1, 0, 0, 0, 0, 0, 0, 0, 1, 0, 0, 0, 1, 1,\n",
              "       0, 0, 0, 0, 1, 0, 0, 0, 1, 1, 0, 1, 0, 0, 0, 0, 1, 0, 1, 1, 1, 0,\n",
              "       0, 0, 0, 0, 0, 1, 0, 0, 0, 0, 1, 0, 0, 0, 0, 0, 0, 0, 1, 1, 0, 0,\n",
              "       0, 1, 0, 0, 0, 1, 1, 1, 0, 0, 0, 0, 0, 0, 0, 0, 1, 0, 1, 0, 0, 0,\n",
              "       1, 0, 0, 1, 0, 0, 0, 0, 0, 0, 0, 0, 0, 1, 0, 1, 0, 1, 0, 1, 1, 0,\n",
              "       0, 0, 1, 0, 1, 0, 0, 1, 0, 1, 1, 0, 1, 0, 0, 1, 1, 0, 0, 1, 0, 0,\n",
              "       1, 1, 1, 0, 0, 0, 0, 0, 1, 1, 0, 1, 0, 0, 0, 0, 0, 1, 0, 0, 0, 1,\n",
              "       0, 1, 0, 0, 1, 0, 1, 0, 0, 0, 0, 0, 1, 1, 1, 1, 1, 0, 1, 0, 0, 0])"
            ]
          },
          "metadata": {
            "tags": []
          },
          "execution_count": 21
        }
      ]
    },
    {
      "cell_type": "code",
      "metadata": {
        "id": "7Ac-YSwu_56-",
        "colab_type": "code",
        "colab": {}
      },
      "source": [
        "np.savetxt(\"predictionTitanic.csv\", y_prediction, delimiter=\",\")"
      ],
      "execution_count": 0,
      "outputs": []
    },
    {
      "cell_type": "code",
      "metadata": {
        "id": "eIXdPL7-Lsq6",
        "colab_type": "code",
        "colab": {}
      },
      "source": [
        "df = pd.DataFrame({\"PassengerId\" : test_titanicData['PassengerId'], \"Survived\" : y_prediction})\n",
        "df.to_csv(\"predictionTitanic2.csv\", index=False)"
      ],
      "execution_count": 0,
      "outputs": []
    },
    {
      "cell_type": "markdown",
      "metadata": {
        "id": "B1QeoyGEPKXn",
        "colab_type": "text"
      },
      "source": [
        "After uploading it to Kaggle in https://www.kaggle.com/c/titanic/submit, \n",
        "\n",
        "**the predicted Titanic survival correctly for 70% of people.:** score: 0.77511"
      ]
    },
    {
      "cell_type": "markdown",
      "metadata": {
        "id": "OqMpM3PoZEh3",
        "colab_type": "text"
      },
      "source": [
        "# **Covriate shift adaptation**"
      ]
    },
    {
      "cell_type": "code",
      "metadata": {
        "id": "hMDBjc8ekomj",
        "colab_type": "code",
        "colab": {}
      },
      "source": [
        "train1 = train_titanicData\n",
        "test1 = test_titanicData"
      ],
      "execution_count": 0,
      "outputs": []
    },
    {
      "cell_type": "code",
      "metadata": {
        "id": "oyipjYRUg9hB",
        "colab_type": "code",
        "colab": {}
      },
      "source": [
        "\n",
        "\n",
        "train1['new'] = 0\n",
        "test1['new'] = 1\n",
        "\n",
        "concatData = train1.append(test1)\n",
        "X_data = concatData.drop(columns=['new'], axis=1)\n",
        "y_data = concatData['new']"
      ],
      "execution_count": 0,
      "outputs": []
    },
    {
      "cell_type": "code",
      "metadata": {
        "id": "q2I3LNHikud4",
        "colab_type": "code",
        "outputId": "f4ebd976-256d-4a13-a0ff-41916499e371",
        "colab": {
          "base_uri": "https://localhost:8080/",
          "height": 357
        }
      },
      "source": [
        "    clf = RFC()\n",
        "    predictions = np.zeros(y.shape)\n",
        "    skf = SKF(n_splits=20, shuffle=True, random_state=721)\n",
        "\n",
        "    for csFold, (train_idx, test_idx) in enumerate(skf.split(X_data, y_data)):\n",
        "        print('Training discriminator model for fold {}'.format(csFold))\n",
        "        X_train, X_test = X_data.iloc[train_idx], X_data.iloc[test_idx]\n",
        "        y_train, y_test = y_data.iloc[train_idx], y_data.iloc[test_idx]\n",
        "\n",
        "        nanX_test = np.isnan(X_test)\n",
        "        nany_train = np.isnan(y_train)\n",
        "        nanX_train = np.isnan(X_train)\n",
        "        X_train = ~nanX_train\n",
        "        y_train = ~nany_train\n",
        "        X_test = ~nanX_test \n",
        "\n",
        "        clf.fit(X_train, y_train)\n",
        "        probs = clf.predict_proba(X_test)[:1]\n",
        "        predictions[test_idx] = probs\n",
        "\n",
        "    weights = np.exp(predictions)*len(train1)/len(test1)\n",
        "    finalWeights = weights[:len(train1)]"
      ],
      "execution_count": 124,
      "outputs": [
        {
          "output_type": "stream",
          "text": [
            "Training discriminator model for fold 0\n",
            "Training discriminator model for fold 1\n",
            "Training discriminator model for fold 2\n",
            "Training discriminator model for fold 3\n",
            "Training discriminator model for fold 4\n",
            "Training discriminator model for fold 5\n",
            "Training discriminator model for fold 6\n",
            "Training discriminator model for fold 7\n",
            "Training discriminator model for fold 8\n",
            "Training discriminator model for fold 9\n",
            "Training discriminator model for fold 10\n",
            "Training discriminator model for fold 11\n",
            "Training discriminator model for fold 12\n",
            "Training discriminator model for fold 13\n",
            "Training discriminator model for fold 14\n",
            "Training discriminator model for fold 15\n",
            "Training discriminator model for fold 16\n",
            "Training discriminator model for fold 17\n",
            "Training discriminator model for fold 18\n",
            "Training discriminator model for fold 19\n"
          ],
          "name": "stdout"
        }
      ]
    },
    {
      "cell_type": "code",
      "metadata": {
        "id": "DoVYu1SJk15D",
        "colab_type": "code",
        "outputId": "c4167b6d-fe7b-47a7-8d2f-73e9acf5f6c5",
        "colab": {
          "base_uri": "https://localhost:8080/",
          "height": 34
        }
      },
      "source": [
        "print ('ROC-AUC for X and Z distributions: ', AUC(y_data,predictions))\n"
      ],
      "execution_count": 118,
      "outputs": [
        {
          "output_type": "stream",
          "text": [
            "ROC-AUC for X and Z distributions:  0.5\n"
          ],
          "name": "stdout"
        }
      ]
    },
    {
      "cell_type": "code",
      "metadata": {
        "id": "9FzODMT5k75K",
        "colab_type": "code",
        "outputId": "f5873a6f-c7b5-432e-a9d5-9ac10ecf7dfd",
        "colab": {
          "base_uri": "https://localhost:8080/",
          "height": 1000
        }
      },
      "source": [
        "finalWeights"
      ],
      "execution_count": 125,
      "outputs": [
        {
          "output_type": "execute_result",
          "data": {
            "text/plain": [
              "array([5.79423232, 5.79423232, 5.79423232, 5.79423232, 5.79423232,\n",
              "       5.79423232, 5.79423232, 5.79423232, 5.79423232, 5.79423232,\n",
              "       5.79423232, 5.79423232, 5.79423232, 5.79423232, 5.79423232,\n",
              "       5.79423232, 5.79423232, 5.79423232, 5.79423232, 5.79423232,\n",
              "       5.79423232, 5.79423232, 5.79423232, 5.79423232, 5.79423232,\n",
              "       5.79423232, 5.79423232, 5.79423232, 5.79423232, 5.79423232,\n",
              "       5.79423232, 5.79423232, 5.79423232, 5.79423232, 5.79423232,\n",
              "       5.79423232, 5.79423232, 5.79423232, 5.79423232, 5.79423232,\n",
              "       5.79423232, 5.79423232, 5.79423232, 5.79423232, 5.79423232,\n",
              "       5.79423232, 5.79423232, 5.79423232, 5.79423232, 5.79423232,\n",
              "       5.79423232, 5.79423232, 5.79423232, 5.79423232, 5.79423232,\n",
              "       5.79423232, 5.79423232, 5.79423232, 5.79423232, 5.79423232,\n",
              "       5.79423232, 5.79423232, 5.79423232, 5.79423232, 5.79423232,\n",
              "       5.79423232, 5.79423232, 5.79423232, 5.79423232, 5.79423232,\n",
              "       5.79423232, 5.79423232, 5.79423232, 5.79423232, 5.79423232,\n",
              "       5.79423232, 5.79423232, 5.79423232, 5.79423232, 5.79423232,\n",
              "       5.79423232, 5.79423232, 5.79423232, 5.79423232, 5.79423232,\n",
              "       5.79423232, 5.79423232, 5.79423232, 5.79423232, 5.79423232,\n",
              "       5.79423232, 5.79423232, 5.79423232, 5.79423232, 5.79423232,\n",
              "       5.79423232, 5.79423232, 5.79423232, 5.79423232, 5.79423232,\n",
              "       5.79423232, 5.79423232, 5.79423232, 5.79423232, 5.79423232,\n",
              "       5.79423232, 5.79423232, 5.79423232, 5.79423232, 5.79423232,\n",
              "       5.79423232, 5.79423232, 5.79423232, 5.79423232, 5.79423232,\n",
              "       5.79423232, 5.79423232, 5.79423232, 5.79423232, 5.79423232,\n",
              "       5.79423232, 5.79423232, 5.79423232, 5.79423232, 5.79423232,\n",
              "       5.79423232, 5.79423232, 5.79423232, 5.79423232, 5.79423232,\n",
              "       5.79423232, 5.79423232, 5.79423232, 5.79423232, 5.79423232,\n",
              "       5.79423232, 5.79423232, 5.79423232, 5.79423232, 5.79423232,\n",
              "       5.79423232, 5.79423232, 5.79423232, 5.79423232, 5.79423232,\n",
              "       5.79423232, 5.79423232, 5.79423232, 5.79423232, 5.79423232,\n",
              "       5.79423232, 5.79423232, 5.79423232, 5.79423232, 5.79423232,\n",
              "       5.79423232, 5.79423232, 5.79423232, 5.79423232, 5.79423232,\n",
              "       5.79423232, 5.79423232, 5.79423232, 5.79423232, 5.79423232,\n",
              "       5.79423232, 5.79423232, 5.79423232, 5.79423232, 5.79423232,\n",
              "       5.79423232, 5.79423232, 5.79423232, 5.79423232, 5.79423232,\n",
              "       5.79423232, 5.79423232, 5.79423232, 5.79423232, 5.79423232,\n",
              "       5.79423232, 5.79423232, 5.79423232, 5.79423232, 5.79423232,\n",
              "       5.79423232, 5.79423232, 5.79423232, 5.79423232, 5.79423232,\n",
              "       5.79423232, 5.79423232, 5.79423232, 5.79423232, 5.79423232,\n",
              "       5.79423232, 5.79423232, 5.79423232, 5.79423232, 5.79423232,\n",
              "       5.79423232, 5.79423232, 5.79423232, 5.79423232, 5.79423232,\n",
              "       5.79423232, 5.79423232, 5.79423232, 5.79423232, 5.79423232,\n",
              "       5.79423232, 5.79423232, 5.79423232, 5.79423232, 5.79423232,\n",
              "       5.79423232, 5.79423232, 5.79423232, 5.79423232, 5.79423232,\n",
              "       5.79423232, 5.79423232, 5.79423232, 5.79423232, 5.79423232,\n",
              "       5.79423232, 5.79423232, 5.79423232, 5.79423232, 5.79423232,\n",
              "       5.79423232, 5.79423232, 5.79423232, 5.79423232, 5.79423232,\n",
              "       5.79423232, 5.79423232, 5.79423232, 5.79423232, 5.79423232,\n",
              "       5.79423232, 5.79423232, 5.79423232, 5.79423232, 5.79423232,\n",
              "       5.79423232, 5.79423232, 5.79423232, 5.79423232, 5.79423232,\n",
              "       5.79423232, 5.79423232, 5.79423232, 5.79423232, 5.79423232,\n",
              "       5.79423232, 5.79423232, 5.79423232, 5.79423232, 5.79423232,\n",
              "       5.79423232, 5.79423232, 5.79423232, 5.79423232, 5.79423232,\n",
              "       5.79423232, 5.79423232, 5.79423232, 5.79423232, 5.79423232,\n",
              "       5.79423232, 5.79423232, 5.79423232, 5.79423232, 5.79423232,\n",
              "       5.79423232, 5.79423232, 5.79423232, 5.79423232, 5.79423232,\n",
              "       5.79423232, 5.79423232, 5.79423232, 5.79423232, 5.79423232,\n",
              "       5.79423232, 5.79423232, 5.79423232, 5.79423232, 5.79423232,\n",
              "       5.79423232, 5.79423232, 5.79423232, 5.79423232, 5.79423232,\n",
              "       5.79423232, 5.79423232, 5.79423232, 5.79423232, 5.79423232,\n",
              "       5.79423232, 5.79423232, 5.79423232, 5.79423232, 5.79423232,\n",
              "       5.79423232, 5.79423232, 5.79423232, 5.79423232, 5.79423232,\n",
              "       5.79423232, 5.79423232, 5.79423232, 5.79423232, 5.79423232,\n",
              "       5.79423232, 5.79423232, 5.79423232, 5.79423232, 5.79423232,\n",
              "       5.79423232, 5.79423232, 5.79423232, 5.79423232, 5.79423232,\n",
              "       5.79423232, 5.79423232, 5.79423232, 5.79423232, 5.79423232,\n",
              "       5.79423232, 5.79423232, 5.79423232, 5.79423232, 5.79423232,\n",
              "       5.79423232, 5.79423232, 5.79423232, 5.79423232, 5.79423232,\n",
              "       5.79423232, 5.79423232, 5.79423232, 5.79423232, 5.79423232,\n",
              "       5.79423232, 5.79423232, 5.79423232, 5.79423232, 5.79423232,\n",
              "       5.79423232, 5.79423232, 5.79423232, 5.79423232, 5.79423232,\n",
              "       5.79423232, 5.79423232, 5.79423232, 5.79423232, 5.79423232,\n",
              "       5.79423232, 5.79423232, 5.79423232, 5.79423232, 5.79423232,\n",
              "       5.79423232, 5.79423232, 5.79423232, 5.79423232, 5.79423232,\n",
              "       5.79423232, 5.79423232, 5.79423232, 5.79423232, 5.79423232,\n",
              "       5.79423232, 5.79423232, 5.79423232, 5.79423232, 5.79423232,\n",
              "       5.79423232, 5.79423232, 5.79423232, 5.79423232, 5.79423232,\n",
              "       5.79423232, 5.79423232, 5.79423232, 5.79423232, 5.79423232,\n",
              "       5.79423232, 5.79423232, 5.79423232, 5.79423232, 5.79423232,\n",
              "       5.79423232, 5.79423232, 5.79423232, 5.79423232, 5.79423232,\n",
              "       5.79423232, 5.79423232, 5.79423232, 5.79423232, 5.79423232,\n",
              "       5.79423232, 5.79423232, 5.79423232, 5.79423232, 5.79423232,\n",
              "       5.79423232, 5.79423232, 5.79423232, 5.79423232, 5.79423232,\n",
              "       5.79423232, 5.79423232, 5.79423232, 5.79423232, 5.79423232,\n",
              "       5.79423232, 5.79423232, 5.79423232, 5.79423232, 5.79423232,\n",
              "       5.79423232, 5.79423232, 5.79423232, 5.79423232, 5.79423232,\n",
              "       5.79423232, 5.79423232, 5.79423232, 5.79423232, 5.79423232,\n",
              "       5.79423232, 5.79423232, 5.79423232, 5.79423232, 5.79423232,\n",
              "       5.79423232, 5.79423232, 5.79423232, 5.79423232, 5.79423232,\n",
              "       5.79423232, 5.79423232, 5.79423232, 5.79423232, 5.79423232,\n",
              "       5.79423232, 5.79423232, 5.79423232, 5.79423232, 5.79423232,\n",
              "       5.79423232, 5.79423232, 5.79423232, 5.79423232, 5.79423232,\n",
              "       5.79423232, 5.79423232, 5.79423232, 5.79423232, 5.79423232,\n",
              "       5.79423232, 5.79423232, 5.79423232, 5.79423232, 5.79423232,\n",
              "       5.79423232, 5.79423232, 5.79423232, 5.79423232, 5.79423232,\n",
              "       5.79423232, 5.79423232, 5.79423232, 5.79423232, 5.79423232,\n",
              "       5.79423232, 5.79423232, 5.79423232, 5.79423232, 5.79423232,\n",
              "       5.79423232, 5.79423232, 5.79423232, 5.79423232, 5.79423232,\n",
              "       5.79423232, 5.79423232, 5.79423232, 5.79423232, 5.79423232,\n",
              "       5.79423232, 5.79423232, 5.79423232, 5.79423232, 5.79423232,\n",
              "       5.79423232, 5.79423232, 5.79423232, 5.79423232, 5.79423232,\n",
              "       5.79423232, 5.79423232, 5.79423232, 5.79423232, 5.79423232,\n",
              "       5.79423232, 5.79423232, 5.79423232, 5.79423232, 5.79423232,\n",
              "       5.79423232, 5.79423232, 5.79423232, 5.79423232, 5.79423232,\n",
              "       5.79423232, 5.79423232, 5.79423232, 5.79423232, 5.79423232,\n",
              "       5.79423232, 5.79423232, 5.79423232, 5.79423232, 5.79423232,\n",
              "       5.79423232, 5.79423232, 5.79423232, 5.79423232, 5.79423232,\n",
              "       5.79423232, 5.79423232, 5.79423232, 5.79423232, 5.79423232,\n",
              "       5.79423232, 5.79423232, 5.79423232, 5.79423232, 5.79423232,\n",
              "       5.79423232, 5.79423232, 5.79423232, 5.79423232, 5.79423232,\n",
              "       5.79423232, 5.79423232, 5.79423232, 5.79423232, 5.79423232,\n",
              "       5.79423232, 5.79423232, 5.79423232, 5.79423232, 5.79423232,\n",
              "       5.79423232, 5.79423232, 5.79423232, 5.79423232, 5.79423232,\n",
              "       5.79423232, 5.79423232, 5.79423232, 5.79423232, 5.79423232,\n",
              "       5.79423232, 5.79423232, 5.79423232, 5.79423232, 5.79423232,\n",
              "       5.79423232, 5.79423232, 5.79423232, 5.79423232, 5.79423232,\n",
              "       5.79423232, 5.79423232, 5.79423232, 5.79423232, 5.79423232,\n",
              "       5.79423232, 5.79423232, 5.79423232, 5.79423232, 5.79423232,\n",
              "       5.79423232, 5.79423232, 5.79423232, 5.79423232, 5.79423232,\n",
              "       5.79423232, 5.79423232, 5.79423232, 5.79423232, 5.79423232,\n",
              "       5.79423232, 5.79423232, 5.79423232, 5.79423232, 5.79423232,\n",
              "       5.79423232, 5.79423232, 5.79423232, 5.79423232, 5.79423232,\n",
              "       5.79423232, 5.79423232, 5.79423232, 5.79423232, 5.79423232,\n",
              "       5.79423232, 5.79423232, 5.79423232, 5.79423232, 5.79423232,\n",
              "       5.79423232, 5.79423232, 5.79423232, 5.79423232, 5.79423232,\n",
              "       5.79423232, 5.79423232, 5.79423232, 5.79423232, 5.79423232,\n",
              "       5.79423232, 5.79423232, 5.79423232, 5.79423232, 5.79423232,\n",
              "       5.79423232, 5.79423232, 5.79423232, 5.79423232, 5.79423232,\n",
              "       5.79423232, 5.79423232, 5.79423232, 5.79423232, 5.79423232,\n",
              "       5.79423232, 5.79423232, 5.79423232, 5.79423232, 5.79423232,\n",
              "       5.79423232, 5.79423232, 5.79423232, 5.79423232, 5.79423232,\n",
              "       5.79423232, 5.79423232, 5.79423232, 5.79423232, 5.79423232,\n",
              "       5.79423232, 5.79423232, 5.79423232, 5.79423232, 5.79423232,\n",
              "       5.79423232, 5.79423232, 5.79423232, 5.79423232, 5.79423232,\n",
              "       5.79423232, 5.79423232, 5.79423232, 5.79423232, 5.79423232,\n",
              "       5.79423232, 5.79423232, 5.79423232, 5.79423232, 5.79423232,\n",
              "       5.79423232, 5.79423232, 5.79423232, 5.79423232, 5.79423232,\n",
              "       5.79423232, 5.79423232, 5.79423232, 5.79423232, 5.79423232,\n",
              "       5.79423232, 5.79423232, 5.79423232, 5.79423232, 5.79423232,\n",
              "       5.79423232, 5.79423232, 5.79423232, 5.79423232, 5.79423232,\n",
              "       5.79423232, 5.79423232, 5.79423232, 5.79423232, 5.79423232,\n",
              "       5.79423232, 5.79423232, 5.79423232, 5.79423232, 5.79423232,\n",
              "       5.79423232, 5.79423232, 5.79423232, 5.79423232, 5.79423232,\n",
              "       5.79423232, 5.79423232, 5.79423232, 5.79423232, 5.79423232,\n",
              "       5.79423232, 5.79423232, 5.79423232, 5.79423232, 5.79423232,\n",
              "       5.79423232, 5.79423232, 5.79423232, 5.79423232, 5.79423232,\n",
              "       5.79423232, 5.79423232, 5.79423232, 5.79423232, 5.79423232,\n",
              "       5.79423232, 5.79423232, 5.79423232, 5.79423232, 5.79423232,\n",
              "       5.79423232, 5.79423232, 5.79423232, 5.79423232, 5.79423232,\n",
              "       5.79423232, 5.79423232, 5.79423232, 5.79423232, 5.79423232,\n",
              "       5.79423232, 5.79423232, 5.79423232, 5.79423232, 5.79423232,\n",
              "       5.79423232, 5.79423232, 5.79423232, 5.79423232, 5.79423232,\n",
              "       5.79423232, 5.79423232, 5.79423232, 5.79423232, 5.79423232,\n",
              "       5.79423232, 5.79423232, 5.79423232, 5.79423232, 5.79423232,\n",
              "       5.79423232, 5.79423232, 5.79423232, 5.79423232, 5.79423232,\n",
              "       5.79423232, 5.79423232, 5.79423232, 5.79423232, 5.79423232,\n",
              "       5.79423232, 5.79423232, 5.79423232, 5.79423232, 5.79423232,\n",
              "       5.79423232, 5.79423232, 5.79423232, 5.79423232, 5.79423232,\n",
              "       5.79423232, 5.79423232, 5.79423232, 5.79423232, 5.79423232,\n",
              "       5.79423232, 5.79423232, 5.79423232, 5.79423232, 5.79423232,\n",
              "       5.79423232, 5.79423232, 5.79423232, 5.79423232, 5.79423232,\n",
              "       5.79423232, 5.79423232, 5.79423232, 5.79423232, 5.79423232,\n",
              "       5.79423232, 5.79423232, 5.79423232, 5.79423232, 5.79423232,\n",
              "       5.79423232, 5.79423232, 5.79423232, 5.79423232, 5.79423232,\n",
              "       5.79423232, 5.79423232, 5.79423232, 5.79423232, 5.79423232,\n",
              "       5.79423232, 5.79423232, 5.79423232, 5.79423232, 5.79423232,\n",
              "       5.79423232, 5.79423232, 5.79423232, 5.79423232, 5.79423232,\n",
              "       5.79423232, 5.79423232, 5.79423232, 5.79423232, 5.79423232,\n",
              "       5.79423232, 5.79423232, 5.79423232, 5.79423232, 5.79423232,\n",
              "       5.79423232, 5.79423232, 5.79423232, 5.79423232, 5.79423232,\n",
              "       5.79423232, 5.79423232, 5.79423232, 5.79423232, 5.79423232,\n",
              "       5.79423232, 5.79423232, 5.79423232, 5.79423232, 5.79423232,\n",
              "       5.79423232, 5.79423232, 5.79423232, 5.79423232, 5.79423232,\n",
              "       5.79423232, 5.79423232, 5.79423232, 5.79423232, 5.79423232,\n",
              "       5.79423232, 5.79423232, 5.79423232, 5.79423232, 5.79423232,\n",
              "       5.79423232, 5.79423232, 5.79423232, 5.79423232, 5.79423232,\n",
              "       5.79423232, 5.79423232, 5.79423232, 5.79423232, 5.79423232,\n",
              "       5.79423232, 5.79423232, 5.79423232, 5.79423232, 5.79423232,\n",
              "       5.79423232])"
            ]
          },
          "metadata": {
            "tags": []
          },
          "execution_count": 125
        }
      ]
    },
    {
      "cell_type": "code",
      "metadata": {
        "id": "4HPqGMMvlKrG",
        "colab_type": "code",
        "colab": {}
      },
      "source": [
        "clf = RFC()\n",
        "clf.fit(x1.values,y1.values,sample_weight=finalWeights)\n",
        "y_prediction = clf.predict(xtest.values)"
      ],
      "execution_count": 0,
      "outputs": []
    },
    {
      "cell_type": "code",
      "metadata": {
        "id": "-AY0DHQzlfHT",
        "colab_type": "code",
        "outputId": "cbe45e78-e5fd-4e66-8b7c-def6a262c17d",
        "colab": {
          "base_uri": "https://localhost:8080/",
          "height": 340
        }
      },
      "source": [
        "y_prediction"
      ],
      "execution_count": 146,
      "outputs": [
        {
          "output_type": "execute_result",
          "data": {
            "text/plain": [
              "array([0, 0, 0, 0, 1, 0, 1, 0, 1, 0, 0, 0, 1, 0, 1, 1, 0, 0, 0, 1, 0, 0,\n",
              "       1, 0, 1, 0, 1, 0, 1, 0, 0, 0, 0, 0, 0, 0, 0, 1, 0, 1, 0, 0, 0, 1,\n",
              "       1, 0, 1, 0, 1, 0, 0, 0, 1, 1, 0, 0, 0, 0, 0, 1, 0, 0, 0, 1, 1, 1,\n",
              "       1, 0, 1, 1, 1, 0, 1, 0, 1, 1, 0, 1, 0, 0, 1, 0, 0, 0, 0, 0, 1, 0,\n",
              "       1, 1, 1, 0, 1, 0, 1, 0, 1, 0, 1, 0, 1, 0, 0, 0, 1, 0, 0, 0, 0, 0,\n",
              "       0, 1, 1, 1, 1, 0, 0, 1, 1, 1, 1, 0, 1, 0, 0, 1, 0, 0, 0, 0, 0, 0,\n",
              "       0, 0, 0, 0, 0, 0, 0, 0, 0, 1, 0, 0, 0, 0, 0, 0, 0, 0, 1, 0, 0, 1,\n",
              "       0, 0, 1, 1, 1, 0, 1, 1, 1, 0, 0, 1, 0, 0, 1, 0, 0, 0, 0, 0, 0, 1,\n",
              "       1, 1, 1, 1, 0, 0, 1, 0, 1, 0, 1, 0, 0, 0, 0, 0, 0, 0, 1, 0, 1, 1,\n",
              "       0, 0, 1, 1, 0, 1, 0, 0, 0, 0, 1, 0, 0, 0, 0, 1, 1, 0, 1, 0, 1, 0,\n",
              "       1, 0, 1, 0, 1, 1, 0, 0, 0, 0, 0, 1, 0, 0, 0, 0, 0, 0, 1, 1, 1, 1,\n",
              "       0, 0, 0, 1, 1, 0, 1, 1, 1, 0, 1, 0, 0, 0, 0, 0, 1, 0, 0, 0, 1, 1,\n",
              "       0, 0, 0, 0, 0, 0, 0, 0, 1, 0, 0, 1, 0, 0, 0, 0, 1, 1, 0, 1, 1, 0,\n",
              "       0, 1, 0, 0, 0, 0, 0, 1, 0, 0, 1, 0, 0, 0, 0, 0, 0, 0, 0, 1, 1, 1,\n",
              "       1, 0, 0, 0, 0, 0, 1, 1, 0, 0, 0, 0, 0, 0, 0, 0, 1, 0, 1, 0, 0, 0,\n",
              "       1, 1, 0, 1, 0, 0, 0, 0, 0, 0, 0, 0, 0, 1, 0, 1, 0, 1, 0, 1, 1, 0,\n",
              "       0, 1, 1, 0, 1, 0, 0, 1, 0, 1, 1, 0, 1, 0, 0, 1, 1, 0, 0, 1, 0, 0,\n",
              "       1, 1, 0, 0, 0, 0, 0, 0, 1, 0, 0, 1, 0, 0, 0, 0, 1, 1, 0, 0, 0, 1,\n",
              "       0, 1, 0, 0, 1, 0, 1, 1, 1, 0, 0, 1, 1, 1, 0, 1, 1, 0, 1, 0, 0, 1])"
            ]
          },
          "metadata": {
            "tags": []
          },
          "execution_count": 146
        }
      ]
    },
    {
      "cell_type": "code",
      "metadata": {
        "id": "lOI2eBRFnEeS",
        "colab_type": "code",
        "colab": {}
      },
      "source": [
        "df = pd.DataFrame({\"PassengerId\" : test_titanicData['PassengerId'], \"Survived\" : y_prediction})\n",
        "df.to_csv(\"predictionTitanic8.csv\", index=False)"
      ],
      "execution_count": 0,
      "outputs": []
    }
  ]
}