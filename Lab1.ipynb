{
  "nbformat": 4,
  "nbformat_minor": 0,
  "metadata": {
    "colab": {
      "name": "Lab1.ipynb",
      "provenance": [],
      "authorship_tag": "ABX9TyPdbEjKNRmBgcYSUzSSr2eK",
      "include_colab_link": true
    },
    "kernelspec": {
      "name": "python3",
      "display_name": "Python 3"
    },
    "accelerator": "GPU"
  },
  "cells": [
    {
      "cell_type": "markdown",
      "metadata": {
        "id": "view-in-github",
        "colab_type": "text"
      },
      "source": [
        "<a href=\"https://colab.research.google.com/github/beliabaez/CE888_2020/blob/master/Lab1.ipynb\" target=\"_parent\"><img src=\"https://colab.research.google.com/assets/colab-badge.svg\" alt=\"Open In Colab\"/></a>"
      ]
    },
    {
      "cell_type": "markdown",
      "metadata": {
        "id": "66Cbv19814dq",
        "colab_type": "text"
      },
      "source": [
        "Quiestion **1** Create a (4x2) integer array and prit it's attributes\n"
      ]
    },
    {
      "cell_type": "code",
      "metadata": {
        "id": "NCyw3vWX3DVx",
        "colab_type": "code",
        "colab": {}
      },
      "source": [
        "import matplotlib.pyplot as plt\n",
        "import numpy as np\n",
        "from sklearn.preprocessing import normalize"
      ],
      "execution_count": 0,
      "outputs": []
    },
    {
      "cell_type": "code",
      "metadata": {
        "id": "sHMoA9B52F59",
        "colab_type": "code",
        "outputId": "95207271-9a0e-486b-dc13-cc306bd16f53",
        "colab": {
          "base_uri": "https://localhost:8080/",
          "height": 85
        }
      },
      "source": [
        "\n",
        "a = np.array([[ 0, 1],\n",
        "              [2, 3],\n",
        "              [10,11],\n",
        "              [12,13]])\n",
        "print(a)"
      ],
      "execution_count": 0,
      "outputs": [
        {
          "output_type": "stream",
          "text": [
            "[[ 0  1]\n",
            " [ 2  3]\n",
            " [10 11]\n",
            " [12 13]]\n"
          ],
          "name": "stdout"
        }
      ]
    },
    {
      "cell_type": "markdown",
      "metadata": {
        "id": "UWNMX1vW25mK",
        "colab_type": "text"
      },
      "source": [
        "Question **2** Create an array of dimension (1,10) and sort it in ascending and descending order"
      ]
    },
    {
      "cell_type": "code",
      "metadata": {
        "id": "qJhDUHO429s5",
        "colab_type": "code",
        "outputId": "d7b9c522-4543-4cd2-ef2c-101cf9e9b5ed",
        "colab": {
          "base_uri": "https://localhost:8080/",
          "height": 68
        }
      },
      "source": [
        "a = np.array([0, 5, 8, 3, 4, 1, 2, 6, 7, 9])\n",
        "print(a)\n",
        "#sorting numbers in ascending\n",
        "a.sort()\n",
        "print(a)\n",
        "#sort numbers in descending\n",
        "d = a[::-1]\n",
        "print(d)\n"
      ],
      "execution_count": 0,
      "outputs": [
        {
          "output_type": "stream",
          "text": [
            "[0 5 8 3 4 1 2 6 7 9]\n",
            "[0 1 2 3 4 5 6 7 8 9]\n",
            "[9 8 7 6 5 4 3 2 1 0]\n"
          ],
          "name": "stdout"
        }
      ]
    },
    {
      "cell_type": "markdown",
      "metadata": {
        "id": "ucXC1wz96yHw",
        "colab_type": "text"
      },
      "source": [
        "question **3** Convert an 1D array [1 2 3 4 5 6 7 8 9] to 2D array [[1 2 3], [4 5 6], [7 8 9]]"
      ]
    },
    {
      "cell_type": "code",
      "metadata": {
        "id": "5fkhQdBC63B2",
        "colab_type": "code",
        "outputId": "43827cc6-b45b-4660-cf15-27f50d45ce85",
        "colab": {
          "base_uri": "https://localhost:8080/",
          "height": 85
        }
      },
      "source": [
        "b = [1, 2, 3, 4, 5, 6, 7, 8, 9]\n",
        "print(b)\n",
        "\n",
        "#slicing array\n",
        "A = np.reshape(b,(-1,3))\n",
        "\n",
        "\n",
        "print (A)"
      ],
      "execution_count": 106,
      "outputs": [
        {
          "output_type": "stream",
          "text": [
            "[1, 2, 3, 4, 5, 6, 7, 8, 9]\n",
            "[[1 2 3]\n",
            " [4 5 6]\n",
            " [7 8 9]]\n"
          ],
          "name": "stdout"
        }
      ]
    },
    {
      "cell_type": "markdown",
      "metadata": {
        "id": "3-4zxzoQ9bGm",
        "colab_type": "text"
      },
      "source": [
        "Question **4**  Stack two arrays of any size horizontally and vertically"
      ]
    },
    {
      "cell_type": "code",
      "metadata": {
        "id": "MjZY5AzS9h8q",
        "colab_type": "code",
        "outputId": "149fba17-dcc0-44b2-9529-142ade404cad",
        "colab": {
          "base_uri": "https://localhost:8080/",
          "height": 136
        }
      },
      "source": [
        "a = np.array([1, 2, 3])\n",
        "b = np.array([4, 5, 6])\n",
        "\n",
        "#stack horizontally\n",
        "d = np.stack((a,b), axis=1)\n",
        "print(\"Horizontally\")\n",
        "print (d)\n",
        "#stack vertically\n",
        "d = np.stack((a,b), axis=0)\n",
        "print(\"Vertically\")\n",
        "print (d)"
      ],
      "execution_count": 0,
      "outputs": [
        {
          "output_type": "stream",
          "text": [
            "Horizontally\n",
            "[[1 4]\n",
            " [2 5]\n",
            " [3 6]]\n",
            "Vertically\n",
            "[[1 2 3]\n",
            " [4 5 6]]\n"
          ],
          "name": "stdout"
        }
      ]
    },
    {
      "cell_type": "markdown",
      "metadata": {
        "id": "QeSCE7zeALZw",
        "colab_type": "text"
      },
      "source": [
        "Question **5** Create two array of same size and find commom elements"
      ]
    },
    {
      "cell_type": "code",
      "metadata": {
        "id": "_Q61KnTjAZ45",
        "colab_type": "code",
        "outputId": "23cc393b-75a5-4c55-fdf5-29960cc0d412",
        "colab": {
          "base_uri": "https://localhost:8080/",
          "height": 85
        }
      },
      "source": [
        "a = [8, 6, 4, 7, 9, 5]\n",
        "b = [1, 2, 3, 4, 5, 6]\n",
        "\n",
        "print (a)\n",
        "print (b)\n",
        "print (\"Commom Elements\")\n",
        "print (set(a) & set (b))"
      ],
      "execution_count": 0,
      "outputs": [
        {
          "output_type": "stream",
          "text": [
            "[8, 6, 4, 7, 9, 5]\n",
            "[1, 2, 3, 4, 5, 6]\n",
            "Commom Elements\n",
            "{4, 5, 6}\n"
          ],
          "name": "stdout"
        }
      ]
    },
    {
      "cell_type": "markdown",
      "metadata": {
        "id": "vgAtSfmNBG09",
        "colab_type": "text"
      },
      "source": [
        "Question **6** Create a 2D array of 5 by 5 and find the min and max values from each row and each column"
      ]
    },
    {
      "cell_type": "code",
      "metadata": {
        "id": "oYS_YgBjBMWj",
        "colab_type": "code",
        "outputId": "f3e6c562-a7f0-4f6b-dd68-3bbb051ab210",
        "colab": {
          "base_uri": "https://localhost:8080/",
          "height": 85
        }
      },
      "source": [
        "a = np.array([[1, 2, 8, 9, 8],\n",
        "             [8, 4, 5, 6, 7],\n",
        "             [6, 7, 0, 3, 1],\n",
        "             [8, 9, 7, 4, 2],\n",
        "             [1, 6, 2, 1, 6]])\n",
        "\n",
        "b= np.array([[1, 2, 8, 9, 8],\n",
        "             [8, 2, 5, 6, 7],\n",
        "             [6, 7, 0, 10, 1],\n",
        "             [8, 9, 7, 4, 2],\n",
        "             [1, 6, 2, 1, 6]])\n",
        "\n",
        "#per columns\n",
        "print (a.min(0))\n",
        "print (a.max(0))\n",
        "\n",
        "#per rows\n",
        "print (a.min(1))\n",
        "print (a.max(1))"
      ],
      "execution_count": 0,
      "outputs": [
        {
          "output_type": "stream",
          "text": [
            "[1 2 0 1 1]\n",
            "[8 9 8 9 8]\n",
            "[1 4 0 2 1]\n",
            "[9 8 7 9 6]\n"
          ],
          "name": "stdout"
        }
      ]
    },
    {
      "cell_type": "markdown",
      "metadata": {
        "id": "pmSxa4a7GmU2",
        "colab_type": "text"
      },
      "source": [
        "Question **7** Create an array of size 100 and compute the mean, median, standard deviation."
      ]
    },
    {
      "cell_type": "code",
      "metadata": {
        "id": "Wd26js5vG3LN",
        "colab_type": "code",
        "outputId": "6e969974-0375-4392-aa2a-0e8a2f9962ee",
        "colab": {
          "base_uri": "https://localhost:8080/",
          "height": 68
        }
      },
      "source": [
        "a = np.random.rand(1, 99)\n",
        "d = np.mean(a)\n",
        "e = np.median(a)\n",
        "f = np.std(a)\n",
        "\n",
        "print(\"mean\", d)\n",
        "print(\"median\", e)\n",
        "print(\"standar deviation\", f)\n"
      ],
      "execution_count": 0,
      "outputs": [
        {
          "output_type": "stream",
          "text": [
            "mean 0.49386183447229043\n",
            "median 0.4855233542224826\n",
            "standar deviation 0.26953544305785015\n"
          ],
          "name": "stdout"
        }
      ]
    },
    {
      "cell_type": "markdown",
      "metadata": {
        "id": "zc3JsI50IcAn",
        "colab_type": "text"
      },
      "source": [
        "Question **8** Normalize a 5x5 random matrix"
      ]
    },
    {
      "cell_type": "code",
      "metadata": {
        "id": "3Qr8tHRnIhEm",
        "colab_type": "code",
        "outputId": "16005410-ca7f-4ad7-9f5d-096184826e27",
        "colab": {
          "base_uri": "https://localhost:8080/",
          "height": 102
        }
      },
      "source": [
        "x = np.random.rand(5,5)\n",
        "b = normalize(x, copy=False)\n",
        "print(b)\n",
        "\n"
      ],
      "execution_count": 0,
      "outputs": [
        {
          "output_type": "stream",
          "text": [
            "[[0.71829182 0.31702    0.48366378 0.33039138 0.2011618 ]\n",
            " [0.41989881 0.27563252 0.40094841 0.69401288 0.32449685]\n",
            " [0.53333869 0.64716313 0.37976843 0.37539493 0.10763042]\n",
            " [0.43769324 0.09920353 0.11922024 0.86319634 0.19814615]\n",
            " [0.24167134 0.29146989 0.292488   0.6920338  0.54053701]]\n"
          ],
          "name": "stdout"
        }
      ]
    },
    {
      "cell_type": "markdown",
      "metadata": {
        "id": "udi-Gj9xKueG",
        "colab_type": "text"
      },
      "source": [
        "Question **9** Consider an array of dimension (4,4,3), how to mulitply it by an array with dimensions (4,4)?"
      ]
    },
    {
      "cell_type": "code",
      "metadata": {
        "id": "8mw53BArKyEz",
        "colab_type": "code",
        "outputId": "e2155118-ae82-42f0-9404-97669c94a2cc",
        "colab": {
          "base_uri": "https://localhost:8080/",
          "height": 85
        }
      },
      "source": [
        "a = np.random.rand(4,4,3)\n",
        "b = np.random.rand(4,4)\n",
        "\n",
        "b.dot(b.T)\n"
      ],
      "execution_count": 0,
      "outputs": [
        {
          "output_type": "execute_result",
          "data": {
            "text/plain": [
              "array([[0.95971008, 0.70576949, 1.28285376, 0.91298237],\n",
              "       [0.70576949, 1.1926561 , 1.27665106, 1.29843717],\n",
              "       [1.28285376, 1.27665106, 2.46708741, 1.56968362],\n",
              "       [0.91298237, 1.29843717, 1.56968362, 1.55209396]])"
            ]
          },
          "metadata": {
            "tags": []
          },
          "execution_count": 94
        }
      ]
    }
  ]
}