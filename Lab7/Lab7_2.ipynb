{
  "nbformat": 4,
  "nbformat_minor": 0,
  "metadata": {
    "colab": {
      "name": "Lab7_2.ipynb",
      "provenance": [],
      "toc_visible": true,
      "include_colab_link": true
    },
    "kernelspec": {
      "name": "python3",
      "display_name": "Python 3"
    },
    "accelerator": "GPU"
  },
  "cells": [
    {
      "cell_type": "markdown",
      "metadata": {
        "id": "view-in-github",
        "colab_type": "text"
      },
      "source": [
        "<a href=\"https://colab.research.google.com/github/beliabaez/CE888_2020/blob/master/Lab7_2.ipynb\" target=\"_parent\"><img src=\"https://colab.research.google.com/assets/colab-badge.svg\" alt=\"Open In Colab\"/></a>"
      ]
    },
    {
      "cell_type": "markdown",
      "metadata": {
        "id": "qTh9DiKVslsJ",
        "colab_type": "text"
      },
      "source": [
        "## Dogs vs. Cats \n",
        "\n",
        "In this competition, you'll write an algorithm to classify whether images contain either a dog or a cat.  This is easy for humans, dogs, and cats. Your computer will find it a bit more difficult.\n",
        "\n",
        "![alt text](https://miro.medium.com/max/3000/1*bhFifratH9DjKqMBTeQG5A.gif)\n",
        "\n",
        "Ref: https://medium.com/@thegrigorian/rolling-in-the-deep-cnn-c8d3f7108c8c"
      ]
    },
    {
      "cell_type": "code",
      "metadata": {
        "id": "YmXSOc0tZIGA",
        "colab_type": "code",
        "outputId": "245a2df4-72a3-4ff1-9ab8-73eb43154903",
        "colab": {
          "base_uri": "https://localhost:8080/",
          "height": 68
        }
      },
      "source": [
        "import os\n",
        "os.environ['KAGGLE_USERNAME'] = \"beliabaez\" # username from the json file\n",
        "os.environ['KAGGLE_KEY'] = \"45f2130868dac04e2b8e87a2c948712d\" # key from the json file\n",
        "!kaggle datasets download -d paultimothymooney/chest-xray-pneumonia # api copied from kaggle"
      ],
      "execution_count": 4,
      "outputs": [
        {
          "output_type": "stream",
          "text": [
            "Downloading chest-xray-pneumonia.zip to /content\n",
            " 99% 2.28G/2.29G [00:50<00:00, 46.1MB/s]\n",
            "100% 2.29G/2.29G [00:50<00:00, 49.1MB/s]\n"
          ],
          "name": "stdout"
        }
      ]
    },
    {
      "cell_type": "code",
      "metadata": {
        "id": "PiwIL8d1n7eS",
        "colab_type": "code",
        "outputId": "a5ee2ff9-326a-4f37-bdae-81a04aad231d",
        "colab": {
          "base_uri": "https://localhost:8080/",
          "height": 34
        }
      },
      "source": [
        "# Upload data\n",
        "from zipfile import ZipFile\n",
        "\n",
        "file_name = \"/content/chest-xray-pneumonia.zip\"\n",
        "\n",
        "with ZipFile(file_name, 'r') as zip:\n",
        "  zip.extractall()\n",
        "  print('done')"
      ],
      "execution_count": 5,
      "outputs": [
        {
          "output_type": "stream",
          "text": [
            "done\n"
          ],
          "name": "stdout"
        }
      ]
    },
    {
      "cell_type": "code",
      "metadata": {
        "id": "0ERlHkfHqpK8",
        "colab_type": "code",
        "colab": {}
      },
      "source": [
        "original_dataset_dir = '/content/train'\n",
        "base_dir = '/content/cats_and_dogs_small'\n",
        "os.mkdir(base_dir)"
      ],
      "execution_count": 0,
      "outputs": []
    },
    {
      "cell_type": "code",
      "metadata": {
        "id": "ul3XAbIyr7vC",
        "colab_type": "code",
        "outputId": "ca06ad1a-f99a-4a96-9736-3836d68a34f4",
        "colab": {
          "base_uri": "https://localhost:8080/",
          "height": 119
        }
      },
      "source": [
        "print('total training normal chest:', len(os.listdir(\"/content/chest_xray/train/NORMAL\")))\n",
        "print('total training pneumonia chest:', len(os.listdir(\"/content/chest_xray/train/PNEUMONIA\")))\n",
        "print('total validation normal chest:', len(os.listdir(\"/content/chest_xray/val/NORMAL\")))\n",
        "\n",
        "print('total validation pneumonia chest:', len(os.listdir(\"/content/chest_xray/val/PNEUMONIA\")))\n",
        "print('total test pneumonia chest:', len(os.listdir(\"/content/chest_xray/test/PNEUMONIA\")))\n",
        "print('total test normal chest:', len(os.listdir(\"/content/chest_xray/test/NORMAL\")))"
      ],
      "execution_count": 10,
      "outputs": [
        {
          "output_type": "stream",
          "text": [
            "total training normal chest: 1341\n",
            "total training pneumonia chest: 3875\n",
            "total validation normal chest: 8\n",
            "total validation pneumonia chest: 8\n",
            "total test pneumonia chest: 390\n",
            "total test normal chest: 234\n"
          ],
          "name": "stdout"
        }
      ]
    },
    {
      "cell_type": "code",
      "metadata": {
        "id": "o9yTA21_r-ma",
        "colab_type": "code",
        "outputId": "430c9dad-7023-4d49-cb3c-bf6c99bcf1e8",
        "colab": {
          "base_uri": "https://localhost:8080/",
          "height": 746
        }
      },
      "source": [
        "from keras import layers\n",
        "from keras import models\n",
        "\n",
        "model = models.Sequential()\n",
        "model.add(layers.Conv2D(32, (3, 3), activation='relu', input_shape=(150, 150, 3)))\n",
        "model.add(layers.MaxPooling2D((2, 2)))\n",
        "model.add(layers.Conv2D(64, (3, 3), activation='relu'))\n",
        "model.add(layers.MaxPooling2D((2, 2)))\n",
        "model.add(layers.Conv2D(128, (3, 3), activation='relu'))\n",
        "model.add(layers.MaxPooling2D((2, 2)))\n",
        "model.add(layers.Conv2D(128, (3, 3), activation='relu'))\n",
        "model.add(layers.MaxPooling2D((2, 2)))\n",
        "model.add(layers.Flatten())\n",
        "model.add(layers.Dense(512, activation='relu'))\n",
        "model.add(layers.Dense(1, activation='sigmoid'))\n",
        "model.summary()"
      ],
      "execution_count": 11,
      "outputs": [
        {
          "output_type": "stream",
          "text": [
            "Using TensorFlow backend.\n"
          ],
          "name": "stderr"
        },
        {
          "output_type": "display_data",
          "data": {
            "text/html": [
              "<p style=\"color: red;\">\n",
              "The default version of TensorFlow in Colab will soon switch to TensorFlow 2.x.<br>\n",
              "We recommend you <a href=\"https://www.tensorflow.org/guide/migrate\" target=\"_blank\">upgrade</a> now \n",
              "or ensure your notebook will continue to use TensorFlow 1.x via the <code>%tensorflow_version 1.x</code> magic:\n",
              "<a href=\"https://colab.research.google.com/notebooks/tensorflow_version.ipynb\" target=\"_blank\">more info</a>.</p>\n"
            ],
            "text/plain": [
              "<IPython.core.display.HTML object>"
            ]
          },
          "metadata": {
            "tags": []
          }
        },
        {
          "output_type": "stream",
          "text": [
            "WARNING:tensorflow:From /usr/local/lib/python3.6/dist-packages/keras/backend/tensorflow_backend.py:66: The name tf.get_default_graph is deprecated. Please use tf.compat.v1.get_default_graph instead.\n",
            "\n",
            "WARNING:tensorflow:From /usr/local/lib/python3.6/dist-packages/keras/backend/tensorflow_backend.py:541: The name tf.placeholder is deprecated. Please use tf.compat.v1.placeholder instead.\n",
            "\n",
            "WARNING:tensorflow:From /usr/local/lib/python3.6/dist-packages/keras/backend/tensorflow_backend.py:4432: The name tf.random_uniform is deprecated. Please use tf.random.uniform instead.\n",
            "\n",
            "WARNING:tensorflow:From /usr/local/lib/python3.6/dist-packages/keras/backend/tensorflow_backend.py:4267: The name tf.nn.max_pool is deprecated. Please use tf.nn.max_pool2d instead.\n",
            "\n",
            "Model: \"sequential_1\"\n",
            "_________________________________________________________________\n",
            "Layer (type)                 Output Shape              Param #   \n",
            "=================================================================\n",
            "conv2d_1 (Conv2D)            (None, 148, 148, 32)      896       \n",
            "_________________________________________________________________\n",
            "max_pooling2d_1 (MaxPooling2 (None, 74, 74, 32)        0         \n",
            "_________________________________________________________________\n",
            "conv2d_2 (Conv2D)            (None, 72, 72, 64)        18496     \n",
            "_________________________________________________________________\n",
            "max_pooling2d_2 (MaxPooling2 (None, 36, 36, 64)        0         \n",
            "_________________________________________________________________\n",
            "conv2d_3 (Conv2D)            (None, 34, 34, 128)       73856     \n",
            "_________________________________________________________________\n",
            "max_pooling2d_3 (MaxPooling2 (None, 17, 17, 128)       0         \n",
            "_________________________________________________________________\n",
            "conv2d_4 (Conv2D)            (None, 15, 15, 128)       147584    \n",
            "_________________________________________________________________\n",
            "max_pooling2d_4 (MaxPooling2 (None, 7, 7, 128)         0         \n",
            "_________________________________________________________________\n",
            "flatten_1 (Flatten)          (None, 6272)              0         \n",
            "_________________________________________________________________\n",
            "dense_1 (Dense)              (None, 512)               3211776   \n",
            "_________________________________________________________________\n",
            "dense_2 (Dense)              (None, 1)                 513       \n",
            "=================================================================\n",
            "Total params: 3,453,121\n",
            "Trainable params: 3,453,121\n",
            "Non-trainable params: 0\n",
            "_________________________________________________________________\n"
          ],
          "name": "stdout"
        }
      ]
    },
    {
      "cell_type": "code",
      "metadata": {
        "id": "2mG8wekxsBVS",
        "colab_type": "code",
        "outputId": "361596f6-aa51-4e31-8df4-4f73ca2a0da2",
        "colab": {
          "base_uri": "https://localhost:8080/",
          "height": 156
        }
      },
      "source": [
        "from keras import optimizers\n",
        "model.compile(loss='binary_crossentropy', \n",
        "              optimizer=optimizers.RMSprop(lr=1e-4),\n",
        "              metrics=['acc'])"
      ],
      "execution_count": 12,
      "outputs": [
        {
          "output_type": "stream",
          "text": [
            "WARNING:tensorflow:From /usr/local/lib/python3.6/dist-packages/keras/optimizers.py:793: The name tf.train.Optimizer is deprecated. Please use tf.compat.v1.train.Optimizer instead.\n",
            "\n",
            "WARNING:tensorflow:From /usr/local/lib/python3.6/dist-packages/keras/backend/tensorflow_backend.py:3657: The name tf.log is deprecated. Please use tf.math.log instead.\n",
            "\n",
            "WARNING:tensorflow:From /usr/local/lib/python3.6/dist-packages/tensorflow_core/python/ops/nn_impl.py:183: where (from tensorflow.python.ops.array_ops) is deprecated and will be removed in a future version.\n",
            "Instructions for updating:\n",
            "Use tf.where in 2.0, which has the same broadcast rule as np.where\n"
          ],
          "name": "stdout"
        }
      ]
    },
    {
      "cell_type": "markdown",
      "metadata": {
        "id": "7zS4Klm8qWp6",
        "colab_type": "text"
      },
      "source": [
        "## Using ImageDataGenerator to read images from directories\n",
        "As you know by now, data should be formatted into appropriately preprocessed floatingpoint tensors before being fed into the network. Currently, the data sits on a drive as JPEG files, so the steps for getting it into the network are roughly as follows:\n",
        "\n",
        "* Read the picture files.\n",
        "* Decode the JPEG content to RGB grids of pixels.\n",
        "* Convert these into floating-point tensors.\n",
        "* Rescale the pixel values (between 0 and 255) to the [0, 1] interval (as you know, neural networks prefer to deal with small input values).\n",
        "\n",
        "It may seem a bit daunting, but fortunately Keras has utilities to take care of these steps automatically. Keras has a module with image-processing helper tools, located at keras.preprocessing.image. In particular, it contains the class ImageDataGenerator,which lets you quickly set up Python generators that can automatically turn image files on disk into batches of preprocessed tensors."
      ]
    },
    {
      "cell_type": "code",
      "metadata": {
        "id": "XJ7XU7t9sEh6",
        "colab_type": "code",
        "outputId": "1b85269c-0716-4540-c7ed-481c51edf8e7",
        "colab": {
          "base_uri": "https://localhost:8080/",
          "height": 51
        }
      },
      "source": [
        "from keras.preprocessing.image import ImageDataGenerator\n",
        "\n",
        "train_datagen = ImageDataGenerator(rescale=1./255)\n",
        "test_datagen = ImageDataGenerator(rescale=1./255)\n",
        "\n",
        "train_generator = train_datagen.flow_from_directory(\"/content/chest_xray/train\",\n",
        "                                                    target_size=(150, 150), \n",
        "                                                    batch_size=20,\n",
        "                                                    class_mode='binary')\n",
        "\n",
        "validation_generator = test_datagen.flow_from_directory(\"/content/chest_xray/val\",\n",
        "                                                        target_size=(150, 150),\n",
        "                                                        batch_size=20,\n",
        "                                                        class_mode='binary')"
      ],
      "execution_count": 15,
      "outputs": [
        {
          "output_type": "stream",
          "text": [
            "Found 5216 images belonging to 2 classes.\n",
            "Found 16 images belonging to 2 classes.\n"
          ],
          "name": "stdout"
        }
      ]
    },
    {
      "cell_type": "markdown",
      "metadata": {
        "id": "SEgLywySqm4u",
        "colab_type": "text"
      },
      "source": [
        "Let’s fit the model to the data using the generator. You do so using the fit_generator method, the equivalent of fit for data generators like this one. It expects as its first argument a Python generator that will yield batches of inputs and targets indefinitely,like this one does. Because the data is being generated endlessly, the Keras model needs to know how many samples to draw from the generator before declaring anepoch over. This is the role of the `steps_per_epoch` argument: after having drawn `steps_per_epoch` batches from the generator—that is, after having run for `steps_per_epoch` gradient descent steps—the fitting process will go to the next epoch. In this case, batches are 20 samples, so it will take 100 batches until you see your target of 2,000 samples.\n",
        "\n",
        "When using fit_generator, you can pass a validation_data argument, much as with the fit method. It’s important to note that this argument is allowed to be a data generator, but it could also be a tuple of Numpy arrays. If you pass a generator as validation_data, then this generator is expected to yield batches of validation data endlessly; thus you should also specify the validation_steps argument, which tells the process how many batches to draw from the validation generator for evaluation."
      ]
    },
    {
      "cell_type": "code",
      "metadata": {
        "id": "yMyfPphJsJG6",
        "colab_type": "code",
        "outputId": "91ff6e64-d3f3-45f6-c67f-37dc3e26fbca",
        "colab": {
          "base_uri": "https://localhost:8080/",
          "height": 1000
        }
      },
      "source": [
        "history = model.fit_generator(train_generator,\n",
        "                              steps_per_epoch=100,\n",
        "                              epochs=30,\n",
        "                              validation_data=validation_generator,\n",
        "                              validation_steps=10)"
      ],
      "execution_count": 22,
      "outputs": [
        {
          "output_type": "stream",
          "text": [
            "Epoch 1/30\n",
            "100/100 [==============================] - 30s 296ms/step - loss: 0.4730 - acc: 0.7809 - val_loss: 0.5338 - val_acc: 0.7500\n",
            "Epoch 2/30\n",
            "100/100 [==============================] - 24s 244ms/step - loss: 0.2625 - acc: 0.8840 - val_loss: 0.7958 - val_acc: 0.6250\n",
            "Epoch 3/30\n",
            "100/100 [==============================] - 24s 241ms/step - loss: 0.1883 - acc: 0.9190 - val_loss: 0.8697 - val_acc: 0.5625\n",
            "Epoch 4/30\n",
            "100/100 [==============================] - 23s 233ms/step - loss: 0.1458 - acc: 0.9450 - val_loss: 0.3664 - val_acc: 0.8125\n",
            "Epoch 5/30\n",
            "100/100 [==============================] - 24s 243ms/step - loss: 0.1245 - acc: 0.9533 - val_loss: 0.6739 - val_acc: 0.7500\n",
            "Epoch 6/30\n",
            "100/100 [==============================] - 24s 240ms/step - loss: 0.1281 - acc: 0.9520 - val_loss: 1.0621 - val_acc: 0.5625\n",
            "Epoch 7/30\n",
            "100/100 [==============================] - 24s 239ms/step - loss: 0.1005 - acc: 0.9620 - val_loss: 0.3998 - val_acc: 0.8125\n",
            "Epoch 8/30\n",
            "100/100 [==============================] - 24s 241ms/step - loss: 0.1003 - acc: 0.9635 - val_loss: 0.6668 - val_acc: 0.8125\n",
            "Epoch 9/30\n",
            "100/100 [==============================] - 24s 244ms/step - loss: 0.0914 - acc: 0.9630 - val_loss: 0.3600 - val_acc: 0.8125\n",
            "Epoch 10/30\n",
            "100/100 [==============================] - 24s 243ms/step - loss: 0.0961 - acc: 0.9660 - val_loss: 0.7329 - val_acc: 0.6875\n",
            "Epoch 11/30\n",
            "100/100 [==============================] - 24s 241ms/step - loss: 0.0745 - acc: 0.9709 - val_loss: 0.2552 - val_acc: 0.8750\n",
            "Epoch 12/30\n",
            "100/100 [==============================] - 24s 241ms/step - loss: 0.0788 - acc: 0.9689 - val_loss: 0.5946 - val_acc: 0.8125\n",
            "Epoch 13/30\n",
            "100/100 [==============================] - 23s 235ms/step - loss: 0.0717 - acc: 0.9715 - val_loss: 0.3356 - val_acc: 0.8750\n",
            "Epoch 14/30\n",
            "100/100 [==============================] - 24s 244ms/step - loss: 0.0644 - acc: 0.9744 - val_loss: 0.5060 - val_acc: 0.7500\n",
            "Epoch 15/30\n",
            "100/100 [==============================] - 25s 249ms/step - loss: 0.0691 - acc: 0.9785 - val_loss: 0.2400 - val_acc: 0.8750\n",
            "Epoch 16/30\n",
            "100/100 [==============================] - 24s 243ms/step - loss: 0.0623 - acc: 0.9780 - val_loss: 0.7158 - val_acc: 0.7500\n",
            "Epoch 17/30\n",
            "100/100 [==============================] - 26s 257ms/step - loss: 0.0616 - acc: 0.9815 - val_loss: 0.2449 - val_acc: 0.9375\n",
            "Epoch 18/30\n",
            "100/100 [==============================] - 23s 231ms/step - loss: 0.0542 - acc: 0.9775 - val_loss: 0.8508 - val_acc: 0.7500\n",
            "Epoch 19/30\n",
            "100/100 [==============================] - 25s 246ms/step - loss: 0.0527 - acc: 0.9790 - val_loss: 1.0405 - val_acc: 0.6875\n",
            "Epoch 20/30\n",
            "100/100 [==============================] - 24s 238ms/step - loss: 0.0531 - acc: 0.9815 - val_loss: 0.2035 - val_acc: 0.9375\n",
            "Epoch 21/30\n",
            "100/100 [==============================] - 24s 242ms/step - loss: 0.0545 - acc: 0.9779 - val_loss: 0.2554 - val_acc: 0.8750\n",
            "Epoch 22/30\n",
            "100/100 [==============================] - 23s 231ms/step - loss: 0.0464 - acc: 0.9865 - val_loss: 0.4481 - val_acc: 0.7500\n",
            "Epoch 23/30\n",
            "100/100 [==============================] - 24s 236ms/step - loss: 0.0511 - acc: 0.9825 - val_loss: 0.3916 - val_acc: 0.8125\n",
            "Epoch 24/30\n",
            "100/100 [==============================] - 24s 236ms/step - loss: 0.0522 - acc: 0.9815 - val_loss: 0.3531 - val_acc: 0.8750\n",
            "Epoch 25/30\n",
            "100/100 [==============================] - 24s 238ms/step - loss: 0.0339 - acc: 0.9885 - val_loss: 0.8244 - val_acc: 0.6875\n",
            "Epoch 26/30\n",
            "100/100 [==============================] - 24s 236ms/step - loss: 0.0472 - acc: 0.9834 - val_loss: 0.4260 - val_acc: 0.7500\n",
            "Epoch 27/30\n",
            "100/100 [==============================] - 24s 238ms/step - loss: 0.0402 - acc: 0.9820 - val_loss: 0.7403 - val_acc: 0.7500\n",
            "Epoch 28/30\n",
            "100/100 [==============================] - 24s 239ms/step - loss: 0.0381 - acc: 0.9815 - val_loss: 0.8865 - val_acc: 0.6875\n",
            "Epoch 29/30\n",
            "100/100 [==============================] - 24s 239ms/step - loss: 0.0331 - acc: 0.9885 - val_loss: 0.5357 - val_acc: 0.7500\n",
            "Epoch 30/30\n",
            "100/100 [==============================] - 24s 240ms/step - loss: 0.0373 - acc: 0.9850 - val_loss: 0.3643 - val_acc: 0.8125\n"
          ],
          "name": "stdout"
        }
      ]
    },
    {
      "cell_type": "code",
      "metadata": {
        "id": "MZaZ2HWZsNUi",
        "colab_type": "code",
        "outputId": "6aaa1ff1-e39f-447a-8fc0-2d3575e018bc",
        "colab": {
          "base_uri": "https://localhost:8080/",
          "height": 545
        }
      },
      "source": [
        "model.save('cats_and_dogs_small_1.h5')\n",
        "\n",
        "import matplotlib.pyplot as plt\n",
        "\n",
        "acc = history.history['acc']\n",
        "val_acc = history.history['val_acc']\n",
        "loss = history.history['loss']\n",
        "val_loss = history.history['val_loss']\n",
        "\n",
        "epochs = range(1, len(acc) + 1)\n",
        "\n",
        "plt.plot(epochs, acc, 'bo', label='Training acc')\n",
        "plt.plot(epochs, val_acc, 'b', label='Validation acc')\n",
        "plt.title('Training and validation accuracy')\n",
        "plt.legend()\n",
        "\n",
        "plt.figure()\n",
        "\n",
        "plt.plot(epochs, loss, 'bo', label='Training loss')\n",
        "plt.plot(epochs, val_loss, 'b', label='Validation loss')\n",
        "plt.title('Training and validation loss')\n",
        "plt.legend()\n",
        "\n",
        "plt.show()"
      ],
      "execution_count": 23,
      "outputs": [
        {
          "output_type": "display_data",
          "data": {
            "image/png": "[encoded data removed]",
            "text/plain": [
              "<Figure size 432x288 with 1 Axes>"
            ]
          },
          "metadata": {
            "tags": []
          }
        },
        {
          "output_type": "display_data",
          "data": {
            "image/png": "[encoded data removed]",
            "text/plain": [
              "<Figure size 432x288 with 1 Axes>"
            ]
          },
          "metadata": {
            "tags": []
          }
        }
      ]
    },
    {
      "cell_type": "markdown",
      "metadata": {
        "id": "XKZmXmBcq_8-",
        "colab_type": "text"
      },
      "source": [
        "## Convolutional Networks with Dropout\n",
        "\n",
        "![alt text](https://camo.githubusercontent.com/ee6fa1073247cd2c3d241300caf110d7a7541bc5/68747470733a2f2f63646e2d696d616765732d312e6d656469756d2e636f6d2f6d61782f3830302f312a4972644a355067684439596f4f7956415137334d4a772e676966)\n",
        "\n",
        "Ref: https://github.com/mneha4/Training-Neural-Nets---Guidelines"
      ]
    },
    {
      "cell_type": "code",
      "metadata": {
        "id": "wu3cqeYQrDeN",
        "colab_type": "code",
        "outputId": "4de947d0-cce3-4dae-b19f-c90684d818e6",
        "colab": {
          "base_uri": "https://localhost:8080/",
          "height": 122
        }
      },
      "source": [
        "model = models.Sequential()\n",
        "model.add(layers.Conv2D(32, (3, 3), activation='relu',\n",
        "input_shape=(150, 150, 3)))\n",
        "model.add(layers.MaxPooling2D((2, 2)))\n",
        "model.add(layers.Conv2D(64, (3, 3), activation='relu'))\n",
        "model.add(layers.MaxPooling2D((2, 2)))\n",
        "model.add(layers.Conv2D(128, (3, 3), activation='relu'))\n",
        "model.add(layers.MaxPooling2D((2, 2)))\n",
        "model.add(layers.Conv2D(128, (3, 3), activation='relu'))\n",
        "model.add(layers.MaxPooling2D((2, 2)))\n",
        "model.add(layers.Flatten())\n",
        "model.add(layers.Dropout(0.5))\n",
        "model.add(layers.Dense(512, activation='relu'))\n",
        "model.add(layers.Dense(1, activation='sigmoid'))\n",
        "\n",
        "model.compile(loss='binary_crossentropy',\n",
        "              optimizer=optimizers.RMSprop(lr=1e-4),\n",
        "              metrics=['acc'])"
      ],
      "execution_count": 24,
      "outputs": [
        {
          "output_type": "stream",
          "text": [
            "WARNING:tensorflow:From /usr/local/lib/python3.6/dist-packages/keras/backend/tensorflow_backend.py:148: The name tf.placeholder_with_default is deprecated. Please use tf.compat.v1.placeholder_with_default instead.\n",
            "\n",
            "WARNING:tensorflow:From /usr/local/lib/python3.6/dist-packages/keras/backend/tensorflow_backend.py:3733: calling dropout (from tensorflow.python.ops.nn_ops) with keep_prob is deprecated and will be removed in a future version.\n",
            "Instructions for updating:\n",
            "Please use `rate` instead of `keep_prob`. Rate should be set to `rate = 1 - keep_prob`.\n"
          ],
          "name": "stdout"
        }
      ]
    },
    {
      "cell_type": "code",
      "metadata": {
        "id": "QSeLpvY0rH7F",
        "colab_type": "code",
        "outputId": "10e5d83b-12d6-4459-bea9-bec305e57708",
        "colab": {
          "base_uri": "https://localhost:8080/",
          "height": 731
        }
      },
      "source": [
        "\n",
        "train_datagen = ImageDataGenerator(rescale=1./255,\n",
        "                                   rotation_range=40,\n",
        "                                   width_shift_range=0.2,\n",
        "                                   height_shift_range=0.2,\n",
        "                                   shear_range=0.2,\n",
        "                                   zoom_range=0.2,\n",
        "                                   horizontal_flip=True,)\n",
        "\n",
        "test_datagen = ImageDataGenerator(rescale=1./255)\n",
        "\n",
        "train_generator = train_datagen.flow_from_directory(\"/content/chest_xray/val\",\n",
        "                                                    target_size=(150, 150),\n",
        "                                                    batch_size=32,\n",
        "                                                    class_mode='binary')\n",
        "\n",
        "validation_generator = test_datagen.flow_from_directory(\"/content/chest_xray/val\",\n",
        "                                                        target_size=(150, 150),\n",
        "                                                        batch_size=32,\n",
        "                                                        class_mode='binary')\n",
        "\n",
        "history = model.fit_generator(train_generator,\n",
        "                              steps_per_epoch=100,\n",
        "                              epochs=20,\n",
        "                              validation_data=validation_generator,\n",
        "                              validation_steps=50)"
      ],
      "execution_count": 26,
      "outputs": [
        {
          "output_type": "stream",
          "text": [
            "Found 16 images belonging to 2 classes.\n",
            "Found 16 images belonging to 2 classes.\n",
            "Epoch 1/20\n",
            "100/100 [==============================] - 41s 406ms/step - loss: 0.6724 - acc: 0.5700 - val_loss: 0.6213 - val_acc: 0.6250\n",
            "Epoch 2/20\n",
            "100/100 [==============================] - 40s 400ms/step - loss: 0.6171 - acc: 0.6425 - val_loss: 0.5239 - val_acc: 0.7500\n",
            "Epoch 3/20\n",
            "100/100 [==============================] - 40s 400ms/step - loss: 0.5577 - acc: 0.7200 - val_loss: 0.4115 - val_acc: 0.8125\n",
            "Epoch 4/20\n",
            "100/100 [==============================] - 40s 399ms/step - loss: 0.4757 - acc: 0.7806 - val_loss: 0.5621 - val_acc: 0.6250\n",
            "Epoch 5/20\n",
            "100/100 [==============================] - 40s 400ms/step - loss: 0.4240 - acc: 0.8244 - val_loss: 0.4140 - val_acc: 0.7500\n",
            "Epoch 6/20\n",
            "100/100 [==============================] - 40s 400ms/step - loss: 0.3688 - acc: 0.8450 - val_loss: 0.6111 - val_acc: 0.6875\n",
            "Epoch 7/20\n",
            "100/100 [==============================] - 40s 400ms/step - loss: 0.3352 - acc: 0.8719 - val_loss: 0.2266 - val_acc: 0.9375\n",
            "Epoch 8/20\n",
            "100/100 [==============================] - 40s 400ms/step - loss: 0.3136 - acc: 0.8806 - val_loss: 0.2283 - val_acc: 0.8750\n",
            "Epoch 9/20\n",
            "100/100 [==============================] - 40s 400ms/step - loss: 0.2804 - acc: 0.9019 - val_loss: 0.1679 - val_acc: 0.9375\n",
            "Epoch 10/20\n",
            "100/100 [==============================] - 40s 400ms/step - loss: 0.2682 - acc: 0.9113 - val_loss: 0.1066 - val_acc: 1.0000\n",
            "Epoch 11/20\n",
            "100/100 [==============================] - 40s 399ms/step - loss: 0.2492 - acc: 0.9056 - val_loss: 0.2630 - val_acc: 0.8750\n",
            "Epoch 12/20\n",
            "100/100 [==============================] - 40s 400ms/step - loss: 0.2164 - acc: 0.9237 - val_loss: 0.0793 - val_acc: 1.0000\n",
            "Epoch 13/20\n",
            "100/100 [==============================] - 40s 403ms/step - loss: 0.2190 - acc: 0.9181 - val_loss: 0.2369 - val_acc: 0.8750\n",
            "Epoch 14/20\n",
            "100/100 [==============================] - 40s 400ms/step - loss: 0.2259 - acc: 0.9163 - val_loss: 0.1004 - val_acc: 0.9375\n",
            "Epoch 15/20\n",
            "100/100 [==============================] - 40s 400ms/step - loss: 0.1999 - acc: 0.9256 - val_loss: 0.3172 - val_acc: 0.8750\n",
            "Epoch 16/20\n",
            "100/100 [==============================] - 40s 400ms/step - loss: 0.1962 - acc: 0.9281 - val_loss: 0.1071 - val_acc: 0.8750\n",
            "Epoch 17/20\n",
            "100/100 [==============================] - 40s 400ms/step - loss: 0.1723 - acc: 0.9381 - val_loss: 0.1064 - val_acc: 0.8750\n",
            "Epoch 18/20\n",
            "100/100 [==============================] - 40s 399ms/step - loss: 0.1825 - acc: 0.9381 - val_loss: 0.0784 - val_acc: 0.9375\n",
            "Epoch 19/20\n",
            "100/100 [==============================] - 40s 400ms/step - loss: 0.1734 - acc: 0.9387 - val_loss: 0.1513 - val_acc: 0.8750\n",
            "Epoch 20/20\n",
            "100/100 [==============================] - 40s 399ms/step - loss: 0.1555 - acc: 0.9450 - val_loss: 0.1105 - val_acc: 0.8750\n"
          ],
          "name": "stdout"
        }
      ]
    }
  ]
}
