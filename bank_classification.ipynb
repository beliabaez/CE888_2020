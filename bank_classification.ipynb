{
  "nbformat": 4,
  "nbformat_minor": 0,
  "metadata": {
    "colab": {
      "name": "bank_classification.ipynb",
      "provenance": [],
      "authorship_tag": "ABX9TyMCbvKcXtRDgoNyjVTsDSVO",
      "include_colab_link": true
    },
    "kernelspec": {
      "name": "python3",
      "display_name": "Python 3"
    }
  },
  "cells": [
    {
      "cell_type": "markdown",
      "metadata": {
        "id": "view-in-github",
        "colab_type": "text"
      },
      "source": [
        "<a href=\"https://colab.research.google.com/github/beliabaez/CE888_2020/blob/master/bank_classification.ipynb\" target=\"_parent\"><img src=\"https://colab.research.google.com/assets/colab-badge.svg\" alt=\"Open In Colab\"/></a>"
      ]
    },
    {
      "cell_type": "code",
      "metadata": {
        "id": "6GWHZ0mP4f3_",
        "colab_type": "code",
        "colab": {}
      },
      "source": [
        "\n",
        "\n",
        "%matplotlib inline\n",
        "import matplotlib\n",
        "import numpy as np\n",
        "import matplotlib.pyplot as plt\n",
        "import pandas as pd\n",
        "import seaborn as sns\n",
        "import itertools\n",
        "\n",
        "from sklearn.tree import DecisionTreeRegressor\n",
        "from sklearn.ensemble import RandomForestClassifier, ExtraTreesClassifier\n",
        "from sklearn.model_selection import cross_val_score\n",
        "from sklearn.metrics import mean_squared_error as mse\n",
        "from sklearn.metrics import mean_absolute_error as mae\n",
        "from sklearn.metrics import accuracy_score as acc\n",
        "from sklearn.metrics import make_scorer, confusion_matrix\n",
        "from sklearn.dummy import DummyRegressor, DummyClassifier\n",
        "from sklearn.preprocessing import LabelEncoder"
      ],
      "execution_count": 0,
      "outputs": []
    },
    {
      "cell_type": "code",
      "metadata": {
        "id": "pxDyb_Co59t8",
        "colab_type": "code",
        "colab": {}
      },
      "source": [
        "df = pd.read_csv(\"https://raw.githubusercontent.com/albanda/CE888/master/lab4/bank-additional-full.csv\", delimiter = \";\")\n",
        "features = [\"age\", \"job\", \"marital\", \"education\", \"default\", \"housing\", \"loan\", \"contact\", \"month\", \"day_of_week\", \"campaign\", \"pdays\", \"previous\", \"poutcome\", \"emp.var.rate\", \"cons.price.idx\", \"cons.conf.idx\", \"euribor3m\", \"nr.employed\"]\n",
        "outcomes = [\"y\"]\n",
        "\n",
        "outcomes_of_interested = [\"y\"]\n",
        "\n",
        "\n",
        "\n"
      ],
      "execution_count": 0,
      "outputs": []
    },
    {
      "cell_type": "code",
      "metadata": {
        "id": "uVumcnx384U8",
        "colab_type": "code",
        "colab": {}
      },
      "source": [
        "\n",
        "df_dummies = pd.get_dummies(df)\n",
        "df_dummies.drop(['y_no', 'duration'], 1, inplace = True)\n",
        "\n"
      ],
      "execution_count": 0,
      "outputs": []
    },
    {
      "cell_type": "code",
      "metadata": {
        "id": "HqULaZjx8_Fg",
        "colab_type": "code",
        "colab": {
          "base_uri": "https://localhost:8080/",
          "height": 333
        },
        "outputId": "70864df3-23f5-491f-d047-0f33b25a67de"
      },
      "source": [
        "#plot histogram\n",
        "x = df_dummies[\"y_yes\"]\n",
        "plt.hist(x)"
      ],
      "execution_count": 55,
      "outputs": [
        {
          "output_type": "execute_result",
          "data": {
            "text/plain": [
              "(array([36548.,     0.,     0.,     0.,     0.,     0.,     0.,     0.,\n",
              "            0.,  4640.]),\n",
              " array([0. , 0.1, 0.2, 0.3, 0.4, 0.5, 0.6, 0.7, 0.8, 0.9, 1. ]),\n",
              " <a list of 10 Patch objects>)"
            ]
          },
          "metadata": {
            "tags": []
          },
          "execution_count": 55
        },
        {
          "output_type": "display_data",
          "data": {
            "image/png": "[encoded data removed]",
            "text/plain": [
              "<Figure size 432x288 with 1 Axes>"
            ]
          },
          "metadata": {
            "tags": []
          }
        }
      ]
    },
    {
      "cell_type": "code",
      "metadata": {
        "id": "yN4unXL2Dk8D",
        "colab_type": "code",
        "colab": {
          "base_uri": "https://localhost:8080/",
          "height": 34
        },
        "outputId": "65dfe42d-8c76-4160-a558-1cbdbc0e9479"
      },
      "source": [
        "\n",
        "X = df_dummies.drop([\"y_yes\"],axis = 1).copy().values\n",
        "y = df_dummies[\"y_yes\"].copy().values\n",
        "clf = ExtraTreesClassifier(n_estimators=100, max_depth=4)\n",
        "clf.fit(X,y)\n",
        "scores = cross_val_score(clf, X, y, cv=10,scoring = make_scorer(acc))\n",
        "\n",
        "print(\"ACC: %0.2f +/- %0.2f\" % (scores.mean(), scores.std()))"
      ],
      "execution_count": 67,
      "outputs": [
        {
          "output_type": "stream",
          "text": [
            "ACC: 0.81 +/- 0.16\n"
          ],
          "name": "stdout"
        }
      ]
    },
    {
      "cell_type": "code",
      "metadata": {
        "id": "MBECFBljShZY",
        "colab_type": "code",
        "colab": {
          "base_uri": "https://localhost:8080/",
          "height": 1000
        },
        "outputId": "0f88f71f-34d7-4212-9208-0f868e2ebba3"
      },
      "source": [
        "features = df_dummies.drop([\"y_yes\"],axis = 1).columns\n",
        "importances = clf.feature_importances_\n",
        "std = np.std([tree.feature_importances_ for tree in clf.estimators_], axis = 0)\n",
        "indices = np.argsort(importances)[::-1]\n",
        "\n",
        "print(\"Feature ranking:\")\n",
        "for f in range(X.shape[1]):\n",
        "   print(\"%d. %s (%f)\" % (f + 1, features[indices[f]], importances[indices[f]]))\n"
      ],
      "execution_count": 69,
      "outputs": [
        {
          "output_type": "stream",
          "text": [
            "Feature ranking:\n",
            "1. pdays (0.182800)\n",
            "2. poutcome_success (0.155034)\n",
            "3. nr.employed (0.140961)\n",
            "4. emp.var.rate (0.136517)\n",
            "5. euribor3m (0.099148)\n",
            "6. cons.price.idx (0.034192)\n",
            "7. poutcome_nonexistent (0.030765)\n",
            "8. contact_telephone (0.022980)\n",
            "9. month_mar (0.019709)\n",
            "10. month_oct (0.019472)\n",
            "11. previous (0.018145)\n",
            "12. cons.conf.idx (0.017926)\n",
            "13. month_may (0.017666)\n",
            "14. contact_cellular (0.016146)\n",
            "15. poutcome_failure (0.015079)\n",
            "16. month_sep (0.013181)\n",
            "17. month_jul (0.007025)\n",
            "18. default_no (0.006835)\n",
            "19. age (0.005492)\n",
            "20. job_retired (0.005488)\n",
            "21. month_nov (0.004765)\n",
            "22. job_blue-collar (0.004375)\n",
            "23. month_jun (0.004215)\n",
            "24. job_student (0.003636)\n",
            "25. month_apr (0.003001)\n",
            "26. default_unknown (0.002673)\n",
            "27. month_aug (0.002471)\n",
            "28. month_dec (0.002011)\n",
            "29. day_of_week_mon (0.001382)\n",
            "30. education_basic.9y (0.000753)\n",
            "31. education_university.degree (0.000653)\n",
            "32. marital_single (0.000649)\n",
            "33. job_services (0.000606)\n",
            "34. campaign (0.000562)\n",
            "35. marital_married (0.000324)\n",
            "36. job_unknown (0.000317)\n",
            "37. education_high.school (0.000314)\n",
            "38. day_of_week_fri (0.000311)\n",
            "39. education_unknown (0.000288)\n",
            "40. day_of_week_tue (0.000234)\n",
            "41. day_of_week_wed (0.000228)\n",
            "42. day_of_week_thu (0.000221)\n",
            "43. job_admin. (0.000194)\n",
            "44. job_entrepreneur (0.000166)\n",
            "45. education_basic.4y (0.000140)\n",
            "46. job_technician (0.000100)\n",
            "47. job_housemaid (0.000093)\n",
            "48. housing_yes (0.000093)\n",
            "49. loan_yes (0.000080)\n",
            "50. marital_divorced (0.000077)\n",
            "51. housing_unknown (0.000070)\n",
            "52. loan_no (0.000064)\n",
            "53. job_unemployed (0.000063)\n",
            "54. education_professional.course (0.000054)\n",
            "55. education_basic.6y (0.000048)\n",
            "56. education_illiterate (0.000047)\n",
            "57. loan_unknown (0.000039)\n",
            "58. housing_no (0.000038)\n",
            "59. job_self-employed (0.000028)\n",
            "60. job_management (0.000027)\n",
            "61. marital_unknown (0.000026)\n",
            "62. default_yes (0.000000)\n"
          ],
          "name": "stdout"
        }
      ]
    },
    {
      "cell_type": "code",
      "metadata": {
        "id": "BWYqx4ZVVu4R",
        "colab_type": "code",
        "colab": {
          "base_uri": "https://localhost:8080/",
          "height": 51
        },
        "outputId": "86781542-0623-49f8-d9f2-e57aa2aac968"
      },
      "source": [
        "y_pred = clf.predict(X)\n",
        "cnf_matrix = confusion_matrix(y, y_pred)\n",
        "np.set_printoptions(precision=2)\n",
        "\n",
        "print (cnf_matrix)"
      ],
      "execution_count": 71,
      "outputs": [
        {
          "output_type": "stream",
          "text": [
            "[[36289   259]\n",
            " [ 3899   741]]\n"
          ],
          "name": "stdout"
        }
      ]
    }
  ]
}